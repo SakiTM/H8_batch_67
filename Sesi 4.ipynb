{
 "cells": [
  {
   "cell_type": "code",
   "execution_count": 3,
   "id": "0ddd919a",
   "metadata": {},
   "outputs": [
    {
     "name": "stdout",
     "output_type": "stream",
     "text": [
      "Requirement already satisfied: numpy in c:\\users\\owner\\anaconda3\\lib\\site-packages (1.20.1)\n"
     ]
    }
   ],
   "source": [
    "!pip install numpy"
   ]
  },
  {
   "cell_type": "code",
   "execution_count": 4,
   "id": "27e3fd9d",
   "metadata": {},
   "outputs": [],
   "source": [
    ">>> import numpy as np"
   ]
  },
  {
   "cell_type": "code",
   "execution_count": 5,
   "id": "2eebbe60",
   "metadata": {},
   "outputs": [
    {
     "data": {
      "text/plain": [
       "list"
      ]
     },
     "execution_count": 5,
     "metadata": {},
     "output_type": "execute_result"
    }
   ],
   "source": [
    "a = [1, 2, 3]\n",
    "type (a)"
   ]
  },
  {
   "cell_type": "code",
   "execution_count": 7,
   "id": "c7e21e7c",
   "metadata": {},
   "outputs": [
    {
     "data": {
      "text/plain": [
       "numpy.ndarray"
      ]
     },
     "execution_count": 7,
     "metadata": {},
     "output_type": "execute_result"
    }
   ],
   "source": [
    "b = np.array ([1, \"a\", 3])\n",
    "type (b)"
   ]
  },
  {
   "cell_type": "code",
   "execution_count": 8,
   "id": "dc580edb",
   "metadata": {},
   "outputs": [
    {
     "name": "stdout",
     "output_type": "stream",
     "text": [
      "[1, 2, 3]\n",
      "['1' 'a' '3']\n"
     ]
    }
   ],
   "source": [
    "print (a)\n",
    "print (b)"
   ]
  },
  {
   "cell_type": "code",
   "execution_count": 10,
   "id": "d4e35d9a",
   "metadata": {},
   "outputs": [
    {
     "data": {
      "text/plain": [
       "array([[1, 2, 3],\n",
       "       [4, 5, 6]])"
      ]
     },
     "execution_count": 10,
     "metadata": {},
     "output_type": "execute_result"
    }
   ],
   "source": [
    "a = np.array ([[1,2,3],[4,5,6]])\n",
    "a"
   ]
  },
  {
   "cell_type": "code",
   "execution_count": 11,
   "id": "4a18dcd9",
   "metadata": {},
   "outputs": [
    {
     "data": {
      "text/plain": [
       "(2, 3)"
      ]
     },
     "execution_count": 11,
     "metadata": {},
     "output_type": "execute_result"
    }
   ],
   "source": [
    "a.shape"
   ]
  },
  {
   "cell_type": "code",
   "execution_count": 17,
   "id": "71b4d94d",
   "metadata": {},
   "outputs": [],
   "source": [
    "axis=1"
   ]
  },
  {
   "cell_type": "code",
   "execution_count": 18,
   "id": "a2b3481c",
   "metadata": {},
   "outputs": [
    {
     "data": {
      "text/plain": [
       "array([[1, 2, 3],\n",
       "       [4, 5, 6]])"
      ]
     },
     "execution_count": 18,
     "metadata": {},
     "output_type": "execute_result"
    }
   ],
   "source": [
    "a = np.array ([[1,2,3], [4,5,6]])\n",
    "a"
   ]
  },
  {
   "cell_type": "code",
   "execution_count": 15,
   "id": "6f7aa7cd",
   "metadata": {},
   "outputs": [
    {
     "data": {
      "text/plain": [
       "'11'"
      ]
     },
     "execution_count": 15,
     "metadata": {},
     "output_type": "execute_result"
    }
   ],
   "source": [
    "'1' + '1'"
   ]
  },
  {
   "cell_type": "code",
   "execution_count": 19,
   "id": "2728e2f4",
   "metadata": {},
   "outputs": [
    {
     "data": {
      "text/plain": [
       "array([[0., 0., 0.],\n",
       "       [0., 0., 0.]])"
      ]
     },
     "execution_count": 19,
     "metadata": {},
     "output_type": "execute_result"
    }
   ],
   "source": [
    "np.zeros ((2,3))"
   ]
  },
  {
   "cell_type": "code",
   "execution_count": 20,
   "id": "b5ff3f30",
   "metadata": {},
   "outputs": [
    {
     "data": {
      "text/plain": [
       "array([[1., 1., 1.],\n",
       "       [1., 1., 1.]])"
      ]
     },
     "execution_count": 20,
     "metadata": {},
     "output_type": "execute_result"
    }
   ],
   "source": [
    "np.ones ((2,3))"
   ]
  },
  {
   "cell_type": "code",
   "execution_count": 21,
   "id": "94001c40",
   "metadata": {},
   "outputs": [
    {
     "data": {
      "text/plain": [
       "array([[6.23042070e-307, 1.86918699e-306, 1.69121096e-306,\n",
       "        1.33512512e-306, 7.56587585e-307],\n",
       "       [1.37961302e-306, 1.05699242e-307, 8.01097889e-307,\n",
       "        1.78020169e-306, 7.56601165e-307],\n",
       "       [1.02359984e-306, 1.33510679e-306, 2.22522597e-306,\n",
       "        1.60220393e-306, 1.29060735e-306],\n",
       "       [1.11261570e-306, 7.56602523e-307, 9.34609790e-307,\n",
       "        8.34451504e-308, 1.33508761e-307],\n",
       "       [1.33511562e-306, 8.90103560e-307, 1.42410974e-306,\n",
       "        2.22507386e-306, 2.46155235e-312]])"
      ]
     },
     "execution_count": 21,
     "metadata": {},
     "output_type": "execute_result"
    }
   ],
   "source": [
    "np.empty ((5,5))"
   ]
  },
  {
   "cell_type": "code",
   "execution_count": 25,
   "id": "5bb703b1",
   "metadata": {},
   "outputs": [
    {
     "data": {
      "text/plain": [
       "array([0, 1, 2, 3, 4, 5, 6, 7, 8, 9])"
      ]
     },
     "execution_count": 25,
     "metadata": {},
     "output_type": "execute_result"
    }
   ],
   "source": [
    "np.arange(0,10,1)#(start, stop, step)"
   ]
  },
  {
   "cell_type": "code",
   "execution_count": 26,
   "id": "5e0d3b6f",
   "metadata": {},
   "outputs": [
    {
     "data": {
      "text/plain": [
       "<function numpy.sort(a, axis=-1, kind=None, order=None)>"
      ]
     },
     "execution_count": 26,
     "metadata": {},
     "output_type": "execute_result"
    }
   ],
   "source": [
    "np.append\n",
    "np.delete\n",
    "np.sort"
   ]
  },
  {
   "cell_type": "code",
   "execution_count": 27,
   "id": "49721e08",
   "metadata": {},
   "outputs": [
    {
     "data": {
      "text/plain": [
       "array([ 1,  2,  3, 10])"
      ]
     },
     "execution_count": 27,
     "metadata": {},
     "output_type": "execute_result"
    }
   ],
   "source": [
    "a = np.array ([1,2,3])\n",
    "np.append (a,10)"
   ]
  },
  {
   "cell_type": "code",
   "execution_count": 28,
   "id": "edeaa1e4",
   "metadata": {},
   "outputs": [
    {
     "data": {
      "text/plain": [
       "array([1, 2, 3])"
      ]
     },
     "execution_count": 28,
     "metadata": {},
     "output_type": "execute_result"
    }
   ],
   "source": [
    "a"
   ]
  },
  {
   "cell_type": "code",
   "execution_count": 33,
   "id": "23abb9f2",
   "metadata": {},
   "outputs": [
    {
     "name": "stdout",
     "output_type": "stream",
     "text": [
      "[1 2 3]\n",
      "[ 1  2  3 10]\n"
     ]
    }
   ],
   "source": [
    "a = np.array ([1,2,3])\n",
    "print(a)\n",
    "a = np.append(a,10)\n",
    "print(a)"
   ]
  },
  {
   "cell_type": "code",
   "execution_count": 36,
   "id": "403ba5e9",
   "metadata": {},
   "outputs": [
    {
     "name": "stdout",
     "output_type": "stream",
     "text": [
      "[ 1  3 10]\n"
     ]
    }
   ],
   "source": [
    "a = np.delete (a, 1)\n",
    "print(a)"
   ]
  },
  {
   "cell_type": "code",
   "execution_count": 37,
   "id": "2b60d9d9",
   "metadata": {},
   "outputs": [
    {
     "name": "stdout",
     "output_type": "stream",
     "text": [
      "[ 1  3 10  2]\n"
     ]
    }
   ],
   "source": [
    "a = np.append (a,2)\n",
    "print (a)"
   ]
  },
  {
   "cell_type": "code",
   "execution_count": 38,
   "id": "2fe9cc82",
   "metadata": {},
   "outputs": [
    {
     "data": {
      "text/plain": [
       "1"
      ]
     },
     "execution_count": 38,
     "metadata": {},
     "output_type": "execute_result"
    }
   ],
   "source": [
    "a.ndim"
   ]
  },
  {
   "cell_type": "code",
   "execution_count": 40,
   "id": "5bbf7172",
   "metadata": {},
   "outputs": [
    {
     "data": {
      "text/plain": [
       "2"
      ]
     },
     "execution_count": 40,
     "metadata": {},
     "output_type": "execute_result"
    }
   ],
   "source": [
    "b = np.array ([[1,2],[3,4]])\n",
    "b.ndim"
   ]
  },
  {
   "cell_type": "code",
   "execution_count": 41,
   "id": "56b11d67",
   "metadata": {},
   "outputs": [
    {
     "name": "stdout",
     "output_type": "stream",
     "text": [
      "4\n",
      "4\n"
     ]
    }
   ],
   "source": [
    "print (a.size)\n",
    "print (b.size)"
   ]
  },
  {
   "cell_type": "code",
   "execution_count": 42,
   "id": "be24fcfc",
   "metadata": {},
   "outputs": [
    {
     "name": "stdout",
     "output_type": "stream",
     "text": [
      "(4,)\n",
      "(2, 2)\n"
     ]
    }
   ],
   "source": [
    "print (a.shape)\n",
    "print (b.shape)"
   ]
  },
  {
   "cell_type": "code",
   "execution_count": 45,
   "id": "e8964c33",
   "metadata": {},
   "outputs": [
    {
     "data": {
      "text/plain": [
       "array([1, 2, 3, 4, 5])"
      ]
     },
     "execution_count": 45,
     "metadata": {},
     "output_type": "execute_result"
    }
   ],
   "source": [
    "np.array ([1,2,3,4,5])"
   ]
  },
  {
   "cell_type": "code",
   "execution_count": 49,
   "id": "ea966308",
   "metadata": {},
   "outputs": [
    {
     "name": "stdout",
     "output_type": "stream",
     "text": [
      "[0 1 2 3 4 5]\n",
      "(6,)\n",
      "\n",
      "[[0 1]\n",
      " [2 3]\n",
      " [4 5]]\n"
     ]
    }
   ],
   "source": [
    "a = np.arange (6)\n",
    "print (a)\n",
    "print(a.shape)\n",
    "print()\n",
    "b = a.reshape (3,2)\n",
    "print (b)"
   ]
  },
  {
   "cell_type": "code",
   "execution_count": 53,
   "id": "79ca5133",
   "metadata": {},
   "outputs": [
    {
     "data": {
      "text/plain": [
       "numpy.ndarray"
      ]
     },
     "execution_count": 53,
     "metadata": {},
     "output_type": "execute_result"
    }
   ],
   "source": [
    "type (a)"
   ]
  },
  {
   "cell_type": "code",
   "execution_count": 54,
   "id": "aa4b2bdc",
   "metadata": {},
   "outputs": [
    {
     "name": "stdout",
     "output_type": "stream",
     "text": [
      "(5,)\n",
      "(1, 5)\n",
      "[[1 2 3 4 5]]\n",
      "(1, 1, 5)\n",
      "[[[1 2 3 4 5]]]\n"
     ]
    }
   ],
   "source": [
    "a = np.array ([1,2,3,4,5])\n",
    "print (a.shape)\n",
    "a2 = a[np.newaxis]\n",
    "print (a2.shape)\n",
    "print (a2)\n",
    "a3 = a2 [np.newaxis]\n",
    "print (a3.shape)\n",
    "print (a3)\n"
   ]
  },
  {
   "cell_type": "code",
   "execution_count": 56,
   "id": "68928f13",
   "metadata": {},
   "outputs": [
    {
     "name": "stdout",
     "output_type": "stream",
     "text": [
      "[0 1 2 3 4 5 6 7 8 9]\n",
      "0\n",
      "5\n",
      "[0 1 2]\n",
      "[8 9]\n",
      "[5 6 7 8 9]\n"
     ]
    }
   ],
   "source": [
    "a= np.arange (0, 10,1)\n",
    "print (a)\n",
    "print(a[0])\n",
    "print (a[5])\n",
    "print (a[0:3])\n",
    "print (a[8:])\n",
    "print (a[-5:])\n"
   ]
  },
  {
   "cell_type": "code",
   "execution_count": 57,
   "id": "ad77344d",
   "metadata": {},
   "outputs": [
    {
     "name": "stdout",
     "output_type": "stream",
     "text": [
      "[ 0  1  2  3  4  5  6  7  8  9 10 11 12 13 14 15 16 17 18 19]\n",
      "0\n",
      "5\n",
      "[0 1 2]\n",
      "[ 8  9 10 11 12 13 14 15 16 17 18 19]\n",
      "[15 16 17 18 19]\n"
     ]
    }
   ],
   "source": [
    "a= np.arange (0, 20,1)\n",
    "print (a)\n",
    "print(a[0])\n",
    "print (a[5])\n",
    "print (a[0:3])\n",
    "print (a[8:])\n",
    "print (a[-5:])"
   ]
  },
  {
   "cell_type": "code",
   "execution_count": 59,
   "id": "c6e3187c",
   "metadata": {},
   "outputs": [
    {
     "name": "stdout",
     "output_type": "stream",
     "text": [
      "[[1 2 3]\n",
      " [4 5 6]\n",
      " [7 8 9]]\n",
      "\n",
      "[6 7 8 9]\n"
     ]
    }
   ],
   "source": [
    "a = np.array ([[1,2,3],\n",
    "             [4,5,6],\n",
    "             [7,8,9]])\n",
    "print (a)\n",
    "print ()\n",
    "print (a[a > 5])"
   ]
  },
  {
   "cell_type": "code",
   "execution_count": 62,
   "id": "d790b64a",
   "metadata": {},
   "outputs": [
    {
     "name": "stdout",
     "output_type": "stream",
     "text": [
      "[6 7 8 9]\n"
     ]
    }
   ],
   "source": [
    "lima_keatas = (a > 5)\n",
    "print (a[lima_keatas])"
   ]
  },
  {
   "cell_type": "code",
   "execution_count": 68,
   "id": "5f83f2e9",
   "metadata": {},
   "outputs": [
    {
     "name": "stdout",
     "output_type": "stream",
     "text": [
      "[6 7]\n"
     ]
    }
   ],
   "source": [
    "lima_keatas = (a > 5)\n",
    "lapan_kebawah = (a <8)\n",
    "print (a[lima_keatas & lapan_kebawah])"
   ]
  },
  {
   "cell_type": "code",
   "execution_count": 82,
   "id": "7961da3b",
   "metadata": {},
   "outputs": [
    {
     "name": "stdout",
     "output_type": "stream",
     "text": [
      "[2 6 7 8 9]\n"
     ]
    }
   ],
   "source": [
    "lima_keatas = (a > 5)\n",
    "dua = (a == 2)\n",
    "print (a[lima_keatas | dua])"
   ]
  },
  {
   "cell_type": "code",
   "execution_count": 85,
   "id": "eb170feb",
   "metadata": {},
   "outputs": [
    {
     "data": {
      "text/plain": [
       "array([[1, 1],\n",
       "       [2, 2],\n",
       "       [2, 2],\n",
       "       [4, 4]])"
      ]
     },
     "execution_count": 85,
     "metadata": {},
     "output_type": "execute_result"
    }
   ],
   "source": [
    "a = np.array ([[1,1],[2,2]])\n",
    "b = np.array ([[2,2],[4,4]])\n",
    "np.vstack ((a,b))"
   ]
  },
  {
   "cell_type": "code",
   "execution_count": 95,
   "id": "45016c6c",
   "metadata": {},
   "outputs": [
    {
     "name": "stdout",
     "output_type": "stream",
     "text": [
      "[ 0  1  2  3  4  5  6  7  8  9 10 11 12 13 14 15 16 17 18 19]\n",
      "20\n"
     ]
    },
    {
     "data": {
      "text/plain": [
       "[array([0, 1, 2, 3]),\n",
       " array([4, 5, 6, 7]),\n",
       " array([ 8,  9, 10, 11]),\n",
       " array([12, 13, 14, 15]),\n",
       " array([16, 17, 18, 19])]"
      ]
     },
     "execution_count": 95,
     "metadata": {},
     "output_type": "execute_result"
    }
   ],
   "source": [
    "a = np.arange (0, 20, 1)\n",
    "b = np.arange (0, 5,1)\n",
    "print (a)\n",
    "print (len(a))\n",
    "np.hsplit (a,2)\n",
    "np.hsplit (a,5)"
   ]
  },
  {
   "cell_type": "code",
   "execution_count": 96,
   "id": "3d71d3a0",
   "metadata": {},
   "outputs": [
    {
     "name": "stdout",
     "output_type": "stream",
     "text": [
      "[array([0, 1, 2, 3]), array([4, 5, 6, 7]), array([ 8,  9, 10, 11]), array([12, 13, 14, 15]), array([16, 17, 18, 19])]\n",
      "4\n",
      "4\n"
     ]
    }
   ],
   "source": [
    "c = np.hsplit (a,5)\n",
    "print (c)\n",
    "print (c[0].size)\n",
    "print (c[1].size)"
   ]
  },
  {
   "cell_type": "code",
   "execution_count": 97,
   "id": "fecef6c2",
   "metadata": {},
   "outputs": [
    {
     "name": "stdout",
     "output_type": "stream",
     "text": [
      "A\n",
      "0\n",
      "\n",
      "B\n",
      "[0 1 2 3 4]\n",
      "\n",
      "C\n",
      "[array([0, 1, 2, 3]), array([4, 5, 6, 7]), array([ 8,  9, 10, 11]), array([12, 13, 14, 15]), array([16, 17, 18, 19])]\n",
      "\n"
     ]
    }
   ],
   "source": [
    "a = a[0]\n",
    "print ('A')\n",
    "print (a)\n",
    "print ()\n",
    "\n",
    "print ('B')\n",
    "print  (b)\n",
    "print ()\n",
    "\n",
    "print ('C')\n",
    "print (c)\n",
    "print ()"
   ]
  },
  {
   "cell_type": "code",
   "execution_count": 100,
   "id": "030941c5",
   "metadata": {},
   "outputs": [
    {
     "name": "stdout",
     "output_type": "stream",
     "text": [
      "[1 2 3 4]\n",
      "\n",
      "10\n"
     ]
    }
   ],
   "source": [
    "a = np.arange (1, 5,1)\n",
    "print (a)\n",
    "print ()\n",
    "print (a.sum())"
   ]
  },
  {
   "cell_type": "code",
   "execution_count": 101,
   "id": "e1d3b232",
   "metadata": {},
   "outputs": [
    {
     "data": {
      "text/plain": [
       "array([3, 4, 5])"
      ]
     },
     "execution_count": 101,
     "metadata": {},
     "output_type": "execute_result"
    }
   ],
   "source": [
    "data = np.array ([1,2,3])\n",
    "tambah = np.array ([2,2,2])\n",
    "data + tambah"
   ]
  },
  {
   "cell_type": "code",
   "execution_count": 103,
   "id": "76f5337c",
   "metadata": {},
   "outputs": [
    {
     "data": {
      "text/plain": [
       "array([[3, 4, 5],\n",
       "       [5, 6, 7]])"
      ]
     },
     "execution_count": 103,
     "metadata": {},
     "output_type": "execute_result"
    }
   ],
   "source": [
    "data = np.array ([[1,2,3],[4,5,6]])\n",
    "tambah = np.array ([[2,2,2],[1,1,1]])\n",
    "data + tambah"
   ]
  },
  {
   "cell_type": "code",
   "execution_count": 104,
   "id": "e2ca328b",
   "metadata": {},
   "outputs": [
    {
     "data": {
      "text/plain": [
       "array([[2, 4, 6],\n",
       "       [4, 5, 6]])"
      ]
     },
     "execution_count": 104,
     "metadata": {},
     "output_type": "execute_result"
    }
   ],
   "source": [
    "data * tambah"
   ]
  },
  {
   "cell_type": "code",
   "execution_count": 105,
   "id": "805d9ec0",
   "metadata": {},
   "outputs": [
    {
     "name": "stdout",
     "output_type": "stream",
     "text": [
      "[[1 2 3]\n",
      " [4 5 6]]\n",
      "21\n"
     ]
    }
   ],
   "source": [
    "print (data)\n",
    "print (data.sum())"
   ]
  },
  {
   "cell_type": "code",
   "execution_count": 107,
   "id": "d6c64a80",
   "metadata": {},
   "outputs": [
    {
     "name": "stdout",
     "output_type": "stream",
     "text": [
      "[[1 2 3]\n",
      " [4 5 6]]\n",
      "\n",
      "21\n",
      "[5 7 9]\n",
      "\n",
      "[ 6 15]\n"
     ]
    }
   ],
   "source": [
    "print (data)\n",
    "print ()\n",
    "print (data.sum())\n",
    "print (data.sum(axis =0))\n",
    "print ()\n",
    "print (data.sum(axis=1))"
   ]
  },
  {
   "cell_type": "code",
   "execution_count": 108,
   "id": "ff513cbc",
   "metadata": {},
   "outputs": [
    {
     "data": {
      "text/plain": [
       "array([1, 4])"
      ]
     },
     "execution_count": 108,
     "metadata": {},
     "output_type": "execute_result"
    }
   ],
   "source": [
    "data.min (axis=1)"
   ]
  },
  {
   "cell_type": "code",
   "execution_count": 112,
   "id": "e9d87c1c",
   "metadata": {},
   "outputs": [
    {
     "name": "stdout",
     "output_type": "stream",
     "text": [
      "[[1 2 3]\n",
      " [4 5 6]]\n",
      "\n",
      "[[ 2  4  6]\n",
      " [ 8 10 12]]\n",
      "\n"
     ]
    }
   ],
   "source": [
    "data = data.T\n",
    "print (data)\n",
    "print ()\n",
    "print (data*2)\n",
    "print ()\n"
   ]
  },
  {
   "cell_type": "code",
   "execution_count": 114,
   "id": "beb07ecf",
   "metadata": {},
   "outputs": [
    {
     "name": "stdout",
     "output_type": "stream",
     "text": [
      "Data\n",
      " [[1 2]\n",
      " [3 4]]\n",
      "Ones\n",
      " [[1. 1.]\n",
      " [1. 1.]]\n",
      "[[2. 3.]\n",
      " [4. 5.]]\n"
     ]
    }
   ],
   "source": [
    "data = np.array ([[1,2], [3,4]])\n",
    "print ('Data\\n', data)\n",
    "ones = np.ones ([2,2])\n",
    "print ('Ones\\n', ones)\n",
    "print (data+ones)"
   ]
  },
  {
   "cell_type": "code",
   "execution_count": 115,
   "id": "8d4b80d7",
   "metadata": {},
   "outputs": [
    {
     "name": "stdout",
     "output_type": "stream",
     "text": [
      "Data\n",
      " [[1 2]\n",
      " [3 4]]\n",
      "Ones_row\n",
      " [[1. 1.]]\n",
      "\n",
      ", [[2. 3.]\n",
      " [4. 5.]]\n"
     ]
    }
   ],
   "source": [
    "print ('Data\\n', data)\n",
    "ones_row = np.ones ([1,2])\n",
    "print ('Ones_row\\n', ones_row)\n",
    "print ('\\n,', data +ones_row)"
   ]
  },
  {
   "cell_type": "code",
   "execution_count": 123,
   "id": "645f3a9e",
   "metadata": {},
   "outputs": [
    {
     "name": "stdout",
     "output_type": "stream",
     "text": [
      "[[1 2 3]\n",
      " [4 5 6]]\n",
      "\n",
      "[[ 7  8]\n",
      " [ 9 10]\n",
      " [10 11]]\n",
      "size= 6\n",
      "shape= (3, 2)\n",
      "\n",
      "Result\n",
      "[[ 55  61]\n",
      " [133 148]]\n",
      "\n",
      "Result2\n",
      "[[1 2 3]\n",
      " [4 5 6]] [[ 7  8]\n",
      " [ 9 10]\n",
      " [10 11]]\n"
     ]
    }
   ],
   "source": [
    "a_1 = np.array ([[1,2,3],[4,5,6]])\n",
    "print (a_1)\n",
    "print ()\n",
    "a_2 = np.array ([[7,8],[9,10],[10,11]])\n",
    "print (a_2)\n",
    "print ('size=', a_2.size)\n",
    "print ('shape=', a_2.shape)\n",
    "print ()\n",
    "print ('Result')\n",
    "print (np.dot (a_1, a_2))\n",
    "print ()\n",
    "                        \n",
    "print ('Result2')\n",
    "print (a_1 , a_2)"
   ]
  },
  {
   "cell_type": "code",
   "execution_count": 124,
   "id": "6284d340",
   "metadata": {},
   "outputs": [
    {
     "name": "stdout",
     "output_type": "stream",
     "text": [
      "[[1 2 3]\n",
      " [4 5 6]\n",
      " [7 8 9]]\n",
      "8\n"
     ]
    }
   ],
   "source": [
    "data = np.array ([[1,2,3],[4,5,6],[7,8,9]])\n",
    "print (data)\n",
    "print (data[2,1])"
   ]
  },
  {
   "cell_type": "code",
   "execution_count": 129,
   "id": "4be9c339",
   "metadata": {},
   "outputs": [
    {
     "name": "stdout",
     "output_type": "stream",
     "text": [
      "[[1 2 3]\n",
      " [4 5 6]\n",
      " [7 8 9]]\n",
      "2\n"
     ]
    }
   ],
   "source": [
    "data = np.array ([[1,2,3],[4,5,6],[7,8,9]])\n",
    "print (data)\n",
    "print (data[0,1])"
   ]
  },
  {
   "cell_type": "code",
   "execution_count": 132,
   "id": "658c6de6",
   "metadata": {},
   "outputs": [
    {
     "data": {
      "text/plain": [
       "array([[1, 2],\n",
       "       [2, 3],\n",
       "       [3, 4],\n",
       "       [4, 5],\n",
       "       [5, 6],\n",
       "       [6, 7],\n",
       "       [7, 8],\n",
       "       [8, 9]])"
      ]
     },
     "metadata": {},
     "output_type": "display_data"
    },
    {
     "name": "stdout",
     "output_type": "stream",
     "text": [
      "[[1 2]\n",
      " [2 3]\n",
      " [3 4]\n",
      " [4 5]\n",
      " [5 6]\n",
      " [6 7]\n",
      " [7 8]\n",
      " [8 9]]\n",
      "2\n",
      "(8, 2)\n",
      "2\n"
     ]
    }
   ],
   "source": [
    "data = np.array ([[1,2],[2,3],[3,4],[4,5],[5,6],[6,7],[7,8],[8,9]])\n",
    "display (data)\n",
    "print (data)\n",
    "print (data.ndim)\n",
    "print (data.shape)\n",
    "print (data[0,1])#jumlah harus sama dengan list array"
   ]
  },
  {
   "cell_type": "code",
   "execution_count": 133,
   "id": "34dd0acb",
   "metadata": {},
   "outputs": [
    {
     "name": "stdout",
     "output_type": "stream",
     "text": [
      "[[1 2]\n",
      " [2 3]\n",
      " [3 4]\n",
      " [4 5]\n",
      " [5 6]\n",
      " [6 7]\n",
      " [7 8]\n",
      " [8 9]]\n",
      "[[1 2 3 4 5 6 7 8]\n",
      " [2 3 4 5 6 7 8 9]]\n"
     ]
    }
   ],
   "source": [
    "print (data)\n",
    "print (data.T)"
   ]
  },
  {
   "cell_type": "code",
   "execution_count": 136,
   "id": "d11a106a",
   "metadata": {},
   "outputs": [
    {
     "data": {
      "text/plain": [
       "array([[1, 2, 3],\n",
       "       [2, 3, 4],\n",
       "       [3, 4, 5],\n",
       "       [4, 5, 6],\n",
       "       [5, 6, 7],\n",
       "       [6, 7, 8],\n",
       "       [7, 8, 9],\n",
       "       [8, 9, 9]])"
      ]
     },
     "metadata": {},
     "output_type": "display_data"
    },
    {
     "name": "stdout",
     "output_type": "stream",
     "text": [
      "[[1 2 3]\n",
      " [2 3 4]\n",
      " [3 4 5]\n",
      " [4 5 6]\n",
      " [5 6 7]\n",
      " [6 7 8]\n",
      " [7 8 9]\n",
      " [8 9 9]]\n",
      "2\n",
      "(8, 3)\n",
      "4\n"
     ]
    }
   ],
   "source": [
    "data = np.array ([[1,2,3],[2,3,4],[3,4,5],[4,5,6],[5,6,7],[6,7,8],[7,8,9],[8,9,9]])\n",
    "display (data)\n",
    "print (data)\n",
    "print (data.ndim)\n",
    "print (data.shape)\n",
    "print (data[2,1])#jumlah harus sama dengan list array"
   ]
  },
  {
   "cell_type": "code",
   "execution_count": 140,
   "id": "f931b5c6",
   "metadata": {},
   "outputs": [
    {
     "name": "stdout",
     "output_type": "stream",
     "text": [
      "[[[[1. 1. 1. 1.]\n",
      "   [1. 1. 1. 1.]]\n",
      "\n",
      "  [[1. 1. 1. 1.]\n",
      "   [1. 1. 1. 1.]]]\n",
      "\n",
      "\n",
      " [[[1. 1. 1. 1.]\n",
      "   [1. 1. 1. 1.]]\n",
      "\n",
      "  [[1. 1. 1. 1.]\n",
      "   [1. 1. 1. 1.]]]\n",
      "\n",
      "\n",
      " [[[1. 1. 1. 1.]\n",
      "   [1. 1. 1. 1.]]\n",
      "\n",
      "  [[1. 1. 1. 1.]\n",
      "   [1. 1. 1. 1.]]]]\n",
      "4\n",
      "(3, 2, 2, 4)\n",
      "[[[1. 1. 1. 1.]\n",
      "  [1. 1. 1. 1.]]\n",
      "\n",
      " [[1. 1. 1. 1.]\n",
      "  [1. 1. 1. 1.]]]\n"
     ]
    }
   ],
   "source": [
    "data = np.ones ((3,2,2,4))\n",
    "print (data)\n",
    "print (np.ones((3,2,2,4)).ndim)\n",
    "print (np.ones((3,2,2,4)).shape)\n",
    "print (data[0])"
   ]
  },
  {
   "cell_type": "code",
   "execution_count": 159,
   "id": "15da9957",
   "metadata": {},
   "outputs": [
    {
     "name": "stdout",
     "output_type": "stream",
     "text": [
      "[[[[0.52039777 0.47029129 0.49333023]\n",
      "   [0.74298203 0.84401628 0.3299695 ]]\n",
      "\n",
      "  [[0.64047501 0.9884695  0.87995982]\n",
      "   [0.73377212 0.74617854 0.31540199]]]\n",
      "\n",
      "\n",
      " [[[0.27353219 0.28877918 0.97672277]\n",
      "   [0.07707686 0.90314241 0.98252817]]\n",
      "\n",
      "  [[0.93432832 0.10298905 0.23543065]\n",
      "   [0.65236985 0.04842055 0.28694194]]]\n",
      "\n",
      "\n",
      " [[[0.16021199 0.32971312 0.47077192]\n",
      "   [0.11313341 0.6236446  0.56457146]]\n",
      "\n",
      "  [[0.09434341 0.85313978 0.43618983]\n",
      "   [0.95829084 0.1263925  0.14583539]]]]\n",
      "\n",
      "flattened\n",
      "[0.52039777 0.47029129 0.49333023 0.74298203 0.84401628 0.3299695\n",
      " 0.64047501 0.9884695  0.87995982 0.73377212 0.74617854 0.31540199\n",
      " 0.27353219 0.28877918 0.97672277 0.07707686 0.90314241 0.98252817\n",
      " 0.93432832 0.10298905 0.23543065 0.65236985 0.04842055 0.28694194\n",
      " 0.16021199 0.32971312 0.47077192 0.11313341 0.6236446  0.56457146\n",
      " 0.09434341 0.85313978 0.43618983 0.95829084 0.1263925  0.14583539]\n"
     ]
    }
   ],
   "source": [
    "data = np.random.random((3,2,2,3))\n",
    "print (data)\n",
    "print ()\n",
    "print ('flattened')\n",
    "print (data.flatten())"
   ]
  },
  {
   "cell_type": "code",
   "execution_count": 137,
   "id": "0e9fb9de",
   "metadata": {},
   "outputs": [
    {
     "name": "stdout",
     "output_type": "stream",
     "text": [
      "[[1 2 3]\n",
      " [2 3 4]\n",
      " [3 4 5]\n",
      " [4 5 6]\n",
      " [5 6 7]\n",
      " [6 7 8]\n",
      " [7 8 9]\n",
      " [8 9 9]]\n",
      "[[1 2 3 4 5 6 7 8]\n",
      " [2 3 4 5 6 7 8 9]\n",
      " [3 4 5 6 7 8 9 9]]\n"
     ]
    }
   ],
   "source": [
    "print (data)\n",
    "print (data.T)"
   ]
  },
  {
   "cell_type": "code",
   "execution_count": 160,
   "id": "e03f0c64",
   "metadata": {},
   "outputs": [
    {
     "name": "stdout",
     "output_type": "stream",
     "text": [
      "[[  1   2   3]\n",
      " [  0  10 100]]\n",
      "shape = (2, 3)\n",
      "\n",
      "[[  1   2]\n",
      " [  3   0]\n",
      " [ 10 100]]\n",
      "shape =  <built-in method reshape of numpy.ndarray object at 0x0000022289AA7750>\n"
     ]
    }
   ],
   "source": [
    "data = np.array ([[1,2,3],[0,10,100]])\n",
    "print (data)\n",
    "print ('shape =', data.shape)\n",
    "print ()\n",
    "print (data.reshape (3,2))\n",
    "print ('shape = ', data.reshape)\n"
   ]
  },
  {
   "cell_type": "code",
   "execution_count": 162,
   "id": "3c340df9",
   "metadata": {},
   "outputs": [
    {
     "name": "stdout",
     "output_type": "stream",
     "text": [
      "25\n",
      "25\n"
     ]
    }
   ],
   "source": [
    "print (5**2)\n",
    "print (np.square (5))"
   ]
  },
  {
   "cell_type": "code",
   "execution_count": 169,
   "id": "3f8d7c18",
   "metadata": {},
   "outputs": [
    {
     "data": {
      "text/plain": [
       "0.0"
      ]
     },
     "execution_count": 169,
     "metadata": {},
     "output_type": "execute_result"
    }
   ],
   "source": [
    "#1/n sigma i-n (Yi - Yi >)**\n",
    "n =1\n",
    "yi=2\n",
    "1/n * np.sum (np.square (yi -yi >1))"
   ]
  },
  {
   "cell_type": "code",
   "execution_count": null,
   "id": "7262fa33",
   "metadata": {},
   "outputs": [],
   "source": []
  }
 ],
 "metadata": {
  "kernelspec": {
   "display_name": "Python 3",
   "language": "python",
   "name": "python3"
  },
  "language_info": {
   "codemirror_mode": {
    "name": "ipython",
    "version": 3
   },
   "file_extension": ".py",
   "mimetype": "text/x-python",
   "name": "python",
   "nbconvert_exporter": "python",
   "pygments_lexer": "ipython3",
   "version": "3.8.8"
  }
 },
 "nbformat": 4,
 "nbformat_minor": 5
}
