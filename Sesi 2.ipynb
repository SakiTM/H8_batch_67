{
 "cells": [
  {
   "cell_type": "markdown",
   "id": "d9b68f5b",
   "metadata": {},
   "source": [
    "# Level 2"
   ]
  },
  {
   "cell_type": "code",
   "execution_count": null,
   "id": "371f7765",
   "metadata": {},
   "outputs": [],
   "source": [
    "A == 'equal'\n",
    "B != 'tidak sama'\n",
    "C < 'kecil dari'\n",
    "D > 'besar dari'\n",
    "E >= 'besar sama'\n",
    "F <= 'kecil sama'\n"
   ]
  },
  {
   "cell_type": "code",
   "execution_count": 35,
   "id": "970a8a47",
   "metadata": {},
   "outputs": [
    {
     "name": "stdout",
     "output_type": "stream",
     "text": [
      "pergi ke rumah nenek\n",
      "tidur-tiduran\n",
      "pergi ke sekolah\n",
      "main bola\n"
     ]
    }
   ],
   "source": [
    "cuaca = 'cerah'\n",
    "if cuaca != 'cerah':\n",
    "  print ('main game di rumah')\n",
    "  print ('tidur-tiduran')\n",
    "else: #bisa diganti expresi ini dengan langsung membuat statement tanpa spasi, contoh di bawah\n",
    "  print ('pergi ke rumah nenek')\n",
    "  print ('tidur-tiduran')\n",
    "\n",
    "day = 'siang'\n",
    "if day != 'siang':\n",
    "  print ('main game di rumah')\n",
    "  print ('tidur') \n",
    "print ('pergi ke sekolah')#meletakkan statement ini tanpa spasi akan mengartikan false sama halnya dengan \"ELSE\"\n",
    "print ('main bola')\n",
    "\n"
   ]
  },
  {
   "cell_type": "code",
   "execution_count": 70,
   "id": "bc40d4d5",
   "metadata": {},
   "outputs": [
    {
     "name": "stdout",
     "output_type": "stream",
     "text": [
      "yes\n",
      "ada\n",
      "kepo\n",
      "yoi\n"
     ]
    }
   ],
   "source": [
    "x = -5\n",
    "y = 5\n",
    "\n",
    "if x < y:\n",
    " print ('yes')#truth\n",
    "if y < x:\n",
    " print ('no)')#false\n",
    "if x:\n",
    " print ('ada')#false\n",
    "if y:\n",
    " print ('kepo')#truth\n",
    "if x+y:\n",
    "    print ('yay')\n",
    "if 'sis' in 'siska':\n",
    "    print ('yoi')\n"
   ]
  },
  {
   "cell_type": "code",
   "execution_count": 63,
   "id": "12bc2188",
   "metadata": {},
   "outputs": [
    {
     "name": "stdout",
     "output_type": "stream",
     "text": [
      "main game di rumah\n",
      "awan\n"
     ]
    }
   ],
   "source": [
    "if 'cua' in 'cuaca':\n",
    "    print ('main game di rumah')\n",
    "    \n",
    "    if 10 < 5:\n",
    "        print ('tidur-tiduran')\n",
    "    print ('awan')\n",
    "else:\n",
    "    print ('jalan-jalan')\n",
    "\n",
    "  "
   ]
  },
  {
   "cell_type": "code",
   "execution_count": 69,
   "id": "d4cf7af2",
   "metadata": {},
   "outputs": [
    {
     "name": "stdout",
     "output_type": "stream",
     "text": [
      "jalan-jalan\n"
     ]
    }
   ],
   "source": [
    "if 'ya' in 'cuaca':\n",
    "    print ('main game di rumah')#2\n",
    "    \n",
    "    if 10 < 5:\n",
    "        print ('tidur-tiduran')#program antara bisa baca atau ga, kalau stament 2 di atas True\n",
    "    print ('awan')#program antara bisa baca atau ga, kalau stament 2 di atas True\n",
    "    \n",
    "    if 5 > 3:\n",
    "        print ('antara ada dan tiada')#program antara bisa baca atau ga, kalau stament 2 di atas True\n",
    "    print ('tralala')#program antara bisa baca atau ga, kalau stament 2 di atas True\n",
    "print ('jalan-jalan')#selalu terprint karena program ga bisa baca"
   ]
  },
  {
   "cell_type": "code",
   "execution_count": 82,
   "id": "a2f5994c",
   "metadata": {},
   "outputs": [
    {
     "name": "stdout",
     "output_type": "stream",
     "text": [
      "uang tidak cukup\n"
     ]
    }
   ],
   "source": [
    "hargabuku = 5000\n",
    "hargamajalah = 10000\n",
    "uang = 1000\n",
    "if hargabuku < uang:\n",
    "    print ('beli buku')\n",
    "else:\n",
    "    print ('uang tidak cukup')"
   ]
  },
  {
   "cell_type": "code",
   "execution_count": 97,
   "id": "0b5ddb4c",
   "metadata": {},
   "outputs": [
    {
     "name": "stdout",
     "output_type": "stream",
     "text": [
      "tidak cukup uang\n",
      "uang buat jajan aja\n"
     ]
    }
   ],
   "source": [
    "hargabuku = 5000\n",
    "hargamajalah = 10000\n",
    "uang = 1000\n",
    "if hargabuku < uang:\n",
    "    print ('beli buku')\n",
    "elif hargamajalah < uang:\n",
    "    print ('beli majalah')\n",
    "elif hargamajalah < hargabuku:\n",
    "    print ('pilih buku')\n",
    "else:\n",
    "    print ('tidak cukup uang')\n",
    "    print ('uang buat jajan aja')"
   ]
  },
  {
   "cell_type": "code",
   "execution_count": 96,
   "id": "9372bdf5",
   "metadata": {},
   "outputs": [
    {
     "name": "stdout",
     "output_type": "stream",
     "text": [
      "tidak cukup uang\n",
      "uang buat jajan aja\n"
     ]
    }
   ],
   "source": [
    "hargabuku = 5000\n",
    "hargamajalah = 10000\n",
    "uang = 1000\n",
    "if hargabuku < uang: print ('beli buku')\n",
    "elif hargamajalah < uang: print ('beli majalah')\n",
    "elif hargamajalah < hargabuku: print ('pilih buku')\n",
    "else: print ('tidak cukup uang'); print ('uang buat jajan aja')"
   ]
  },
  {
   "cell_type": "code",
   "execution_count": 102,
   "id": "93107561",
   "metadata": {},
   "outputs": [
    {
     "name": "stdout",
     "output_type": "stream",
     "text": [
      "let's go to the beach\n",
      "let's go to the library\n"
     ]
    }
   ],
   "source": [
    "raining = False\n",
    "print (\"let's go to the\", 'beach' if not raining else'library')\n",
    "raining = True\n",
    "print (\"let's go to the\", 'beach' if not raining else'library')"
   ]
  },
  {
   "cell_type": "code",
   "execution_count": 109,
   "id": "375905bd",
   "metadata": {},
   "outputs": [
    {
     "name": "stdout",
     "output_type": "stream",
     "text": [
      "adult\n"
     ]
    }
   ],
   "source": [
    "age =25\n",
    "s = 'teen' if age < 21 else 'adult'\n",
    "print (s)"
   ]
  },
  {
   "cell_type": "code",
   "execution_count": 121,
   "id": "68d2b504",
   "metadata": {},
   "outputs": [
    {
     "data": {
      "text/plain": [
       "'yes'"
      ]
     },
     "execution_count": 121,
     "metadata": {},
     "output_type": "execute_result"
    }
   ],
   "source": [
    "'yes' if ('cuaca' in ['cuaca', 'siang', 'malam']) else 'no'\n",
    "#hanya berlaku jika dalam tanda '' semua hurufnya masuk/sesuai\n"
   ]
  },
  {
   "cell_type": "code",
   "execution_count": 127,
   "id": "687f1a93",
   "metadata": {},
   "outputs": [
    {
     "data": {
      "text/plain": [
       "'no'"
      ]
     },
     "execution_count": 127,
     "metadata": {},
     "output_type": "execute_result"
    }
   ],
   "source": [
    "'yes' if ('cua' in ['cuaca', 'siang', 'malam']) else 'no'\n",
    "#hanya berlaku jika dalam tanda '' semua hurufnya masuk/sesuai kalau tidak dia menjadi no"
   ]
  },
  {
   "cell_type": "code",
   "execution_count": 129,
   "id": "d2389888",
   "metadata": {},
   "outputs": [],
   "source": [
    "a = 5\n",
    "b = 3\n",
    "if a > b:\n",
    "    m = a\n",
    "else: \n",
    "    m = b "
   ]
  },
  {
   "cell_type": "code",
   "execution_count": 130,
   "id": "4d4df926",
   "metadata": {},
   "outputs": [],
   "source": [
    "a = 5\n",
    "b = 3\n",
    "m = a if a > b else b"
   ]
  },
  {
   "cell_type": "code",
   "execution_count": 134,
   "id": "609dd935",
   "metadata": {},
   "outputs": [
    {
     "name": "stdout",
     "output_type": "stream",
     "text": [
      "cuaca\n",
      "cuaca sore\n"
     ]
    }
   ],
   "source": [
    "if True:\n",
    "    print ('cuaca') #indent disini bisa diganti dengan\n",
    "\n",
    "if True:\n",
    "    pass\n",
    "print ('cuaca sore')"
   ]
  },
  {
   "cell_type": "markdown",
   "id": "aa049fdb",
   "metadata": {},
   "source": [
    "# Loop"
   ]
  },
  {
   "cell_type": "code",
   "execution_count": 142,
   "id": "709ff9e6",
   "metadata": {},
   "outputs": [
    {
     "name": "stdout",
     "output_type": "stream",
     "text": [
      "4\n",
      "3\n",
      "2\n",
      "1\n",
      "9\n",
      "8\n",
      "7\n",
      "6\n"
     ]
    }
   ],
   "source": [
    "a = 5\n",
    "while a > 1:#angka runningnya minimal sama dengan angka ekspresi besarnya\n",
    "    a -= 1\n",
    "    print (a)\n",
    "    \n",
    "#contoh 2\n",
    "\n",
    "a = 10\n",
    "while a > 6:#angka runningnya minimal sama dengan angka ekspresi besarnya\n",
    "    a -= 1\n",
    "    print (a)\n",
    "    \n",
    "#contoh 3\n",
    "a = 5\n",
    "while a > 1:#angka runningnya minimal sama dengan angka ekspresi besarnya\n",
    "    a += 1\n",
    "    print (a)"
   ]
  },
  {
   "cell_type": "code",
   "execution_count": null,
   "id": "c0b42067",
   "metadata": {},
   "outputs": [],
   "source": [
    "n = 0\n",
    "print ('n =', n)\n",
    "print ('-'*20)\n",
    "while True:\n",
    "    print ('A{}'.format (n))\n",
    "    n = n + 1\n",
    "    if n == 10:\n",
    "        break\n",
    "print ('-'*20)\n",
    "print ('n =', n)"
   ]
  },
  {
   "cell_type": "code",
   "execution_count": 156,
   "id": "6201a8c7",
   "metadata": {},
   "outputs": [
    {
     "name": "stdout",
     "output_type": "stream",
     "text": [
      "x = 0\n",
      "--------------------\n",
      "A0\n",
      "A1\n",
      "A2\n",
      "A3\n",
      "A4\n",
      "A5\n",
      "A6\n",
      "A7\n",
      "A8\n",
      "A9\n",
      "--------------------\n",
      "x = 10\n"
     ]
    }
   ],
   "source": [
    "x = 0\n",
    "print ('x =', x)\n",
    "print ('-'*20)\n",
    "while True:\n",
    "    print ('A{}'.format (x))\n",
    "    x = x + 1\n",
    "    if x == 10:\n",
    "        break\n",
    "print ('-'*20)\n",
    "print ('x =', x)"
   ]
  },
  {
   "cell_type": "code",
   "execution_count": 162,
   "id": "eaabb420",
   "metadata": {},
   "outputs": [
    {
     "name": "stdout",
     "output_type": "stream",
     "text": [
      "cuaca\n",
      "siang\n",
      "malam\n",
      "sore\n",
      "pagi\n",
      "['siang', 'malam', 'sore']\n",
      "pagi\n"
     ]
    }
   ],
   "source": [
    "x = ['cuaca', 'siang', 'malam', 'sore', 'pagi']\n",
    "print (x[0])\n",
    "print (x[1])\n",
    "print (x[2])\n",
    "print (x[3])\n",
    "print (x[4])\n",
    "print (x[1:4])\n",
    "print (x[-1])"
   ]
  },
  {
   "cell_type": "code",
   "execution_count": 165,
   "id": "484bcfb6",
   "metadata": {},
   "outputs": [
    {
     "name": "stdout",
     "output_type": "stream",
     "text": [
      "4\n",
      "3\n",
      "2\n"
     ]
    }
   ],
   "source": [
    "n = 5\n",
    "while n > 0:\n",
    "    n -= 1\n",
    "    print (n)\n",
    "    if n == 2:\n",
    "        break\n",
    "else:\n",
    "    print ('Loop done')"
   ]
  },
  {
   "cell_type": "code",
   "execution_count": 173,
   "id": "95fc1ecc",
   "metadata": {},
   "outputs": [
    {
     "name": "stdout",
     "output_type": "stream",
     "text": [
      "grandfather\n"
     ]
    }
   ],
   "source": [
    "gender = 'M'\n",
    "age = 65\n",
    "if age < 18:\n",
    "    if gender == 'M':\n",
    "        print ('son')\n",
    "    else:\n",
    "        print ('daughter')\n",
    "elif age >= 18 and age < 65:\n",
    "    if gender == 'M':\n",
    "        print ('father')\n",
    "    else:\n",
    "        print ('mother')\n",
    "else:\n",
    "    if gender == 'M':\n",
    "        print ('grandfather')\n",
    "    else:\n",
    "        print ('grandmother')\n"
   ]
  },
  {
   "cell_type": "code",
   "execution_count": 174,
   "id": "d67f9704",
   "metadata": {},
   "outputs": [
    {
     "name": "stdout",
     "output_type": "stream",
     "text": [
      "foo\n",
      "> baz\n",
      "> qux\n",
      "bar\n",
      "> baz\n",
      "> qux\n"
     ]
    }
   ],
   "source": [
    "a = ['foo', 'bar']\n",
    "while len (a):\n",
    "    print (a.pop (0))\n",
    "    b = ['baz', 'qux']\n",
    "    while len (b):\n",
    "        print ('>', b.pop(0))"
   ]
  },
  {
   "cell_type": "code",
   "execution_count": 175,
   "id": "57abd718",
   "metadata": {},
   "outputs": [
    {
     "name": "stdout",
     "output_type": "stream",
     "text": [
      "4\n",
      "3\n",
      "2\n",
      "1\n",
      "0\n"
     ]
    }
   ],
   "source": [
    "n = 5\n",
    "while n > 0:\n",
    "    n -= 1;\n",
    "    print (n)"
   ]
  },
  {
   "cell_type": "code",
   "execution_count": 188,
   "id": "29bbd13f",
   "metadata": {},
   "outputs": [
    {
     "name": "stdout",
     "output_type": "stream",
     "text": [
      "foo\n",
      "bar\n",
      "baz\n"
     ]
    }
   ],
   "source": [
    "a = [ 'foo', 'bar', 'baz']\n",
    "for i in a:\n",
    "    print (i)\n"
   ]
  },
  {
   "cell_type": "code",
   "execution_count": 208,
   "id": "81c35aa4",
   "metadata": {},
   "outputs": [
    {
     "name": "stdout",
     "output_type": "stream",
     "text": [
      "foo\n",
      "bar\n",
      "baz\n",
      "1\n",
      "2\n",
      "3\n"
     ]
    }
   ],
   "source": [
    "d = {'foo': 1, 'bar':2 , 'baz': 3}\n",
    "for k in d:\n",
    "    print (k)\n",
    "for k in d:\n",
    "    print (d[k])\n"
   ]
  },
  {
   "cell_type": "code",
   "execution_count": 209,
   "id": "879de5d3",
   "metadata": {},
   "outputs": [
    {
     "name": "stdout",
     "output_type": "stream",
     "text": [
      "0\n",
      "1\n",
      "2\n",
      "3\n",
      "4\n"
     ]
    }
   ],
   "source": [
    "for n in (0, 1, 2, 3, 4):\n",
    "    print (n)"
   ]
  },
  {
   "cell_type": "code",
   "execution_count": 211,
   "id": "60e5d458",
   "metadata": {},
   "outputs": [],
   "source": [
    "x = range (5)"
   ]
  },
  {
   "cell_type": "code",
   "execution_count": 212,
   "id": "74dd1a03",
   "metadata": {},
   "outputs": [
    {
     "name": "stdout",
     "output_type": "stream",
     "text": [
      "0\n",
      "1\n",
      "2\n",
      "3\n",
      "4\n"
     ]
    }
   ],
   "source": [
    "for n in x:\n",
    "    print (n)"
   ]
  },
  {
   "cell_type": "code",
   "execution_count": 213,
   "id": "b3ce6c39",
   "metadata": {},
   "outputs": [],
   "source": [
    "for i in ['foo', 'bar', 'baz', 'qux']:\n",
    "    if 'b' in i:\n",
    "        break\n",
    "        print (i)"
   ]
  },
  {
   "cell_type": "code",
   "execution_count": 219,
   "id": "c779c5c2",
   "metadata": {},
   "outputs": [
    {
     "name": "stdout",
     "output_type": "stream",
     "text": [
      "foo\n",
      "bar\n",
      "baz\n",
      "1\n",
      "2\n",
      "3\n",
      "1\n",
      "2\n",
      "3\n",
      "foo : 1\n",
      "bar : 2\n",
      "baz : 3\n",
      "1\n",
      "2\n",
      "3\n"
     ]
    }
   ],
   "source": [
    "d = {'foo': 1, 'bar':2 , 'baz': 3}\n",
    "\n",
    "for k in d:\n",
    "    print (k)\n",
    "for k in d:\n",
    "    print (d[k])\n",
    "for k in d.values():\n",
    "    print (k)\n",
    "for k, v in d.items():\n",
    "    print (k, \":\", v)\n",
    "for v in d.values():\n",
    "    print (v)"
   ]
  },
  {
   "cell_type": "code",
   "execution_count": 220,
   "id": "1ba4e275",
   "metadata": {},
   "outputs": [
    {
     "name": "stdout",
     "output_type": "stream",
     "text": [
      "0\n",
      "1\n",
      "2\n",
      "3\n",
      "4\n"
     ]
    }
   ],
   "source": [
    "for n in x:\n",
    "    print (n)"
   ]
  },
  {
   "cell_type": "code",
   "execution_count": 221,
   "id": "48d3f885",
   "metadata": {},
   "outputs": [
    {
     "name": "stdout",
     "output_type": "stream",
     "text": [
      "foo\n"
     ]
    }
   ],
   "source": [
    "for i in ['foo', 'bar', 'baz', 'qux']:\n",
    "    if 'b' in i:\n",
    "        break\n",
    "    print (i)"
   ]
  },
  {
   "cell_type": "code",
   "execution_count": 222,
   "id": "b6c1baf0",
   "metadata": {},
   "outputs": [
    {
     "name": "stdout",
     "output_type": "stream",
     "text": [
      "foo\n",
      "qux\n"
     ]
    }
   ],
   "source": [
    "for i in ['foo', 'bar', 'baz', 'qux']:\n",
    "    if 'b' in i:\n",
    "        continue\n",
    "    print (i)"
   ]
  },
  {
   "cell_type": "code",
   "execution_count": 223,
   "id": "797b8f77",
   "metadata": {},
   "outputs": [
    {
     "name": "stdout",
     "output_type": "stream",
     "text": [
      "foo\n",
      "bar\n",
      "baz\n",
      "qux\n",
      "Done.\n"
     ]
    }
   ],
   "source": [
    "for i in ['foo', 'bar', 'baz', 'qux']:\n",
    "    print (i)\n",
    "else:\n",
    "    print ('Done.') #akan dieksekusi"
   ]
  },
  {
   "cell_type": "code",
   "execution_count": 224,
   "id": "627a7653",
   "metadata": {},
   "outputs": [
    {
     "name": "stdout",
     "output_type": "stream",
     "text": [
      "foo\n"
     ]
    }
   ],
   "source": [
    "for i in ['foo', 'bar', 'baz', 'qux']:\n",
    "    if i =='bar':\n",
    "        break\n",
    "    print (i)\n",
    "else:\n",
    "    print ('Done.') #tidak akan dieksekusi"
   ]
  },
  {
   "cell_type": "code",
   "execution_count": 228,
   "id": "5ace9f22",
   "metadata": {},
   "outputs": [
    {
     "name": "stdout",
     "output_type": "stream",
     "text": [
      "Ketikan temperatur yang ingin dikonversi eg. 45F, 120C:12C\n",
      "Temperaturnya adalah 54 derajat\n"
     ]
    }
   ],
   "source": [
    "temp = input (\"Ketikan temperatur yang ingin dikonversi eg. 45F, 120C:\")\n",
    "degree = int (temp [:-1])\n",
    "i_convertion = temp [-1]\n",
    "if i_convertion == \"C\":\n",
    "    result = int (round ((9 *degree)/5 + 32))\n",
    "elif i_convertion == \"F\":\n",
    "    result = int (round ((degree -32) * 5 / 9))\n",
    "else:\n",
    "    print (\"Masukan input yang benar\")\n",
    "print (\"Temperaturnya adalah\", result, \"derajat\" )"
   ]
  },
  {
   "cell_type": "code",
   "execution_count": 230,
   "id": "f83f6d8a",
   "metadata": {},
   "outputs": [
    {
     "name": "stdout",
     "output_type": "stream",
     "text": [
      "Ketikan karakter:lala\n",
      "lala\n",
      "Ketikan karakter:stop\n",
      "stop\n"
     ]
    }
   ],
   "source": [
    "while True:\n",
    "    msg = input (\"Ketikan karakter:\").lower()\n",
    "    print (msg)\n",
    "    if msg ==\"stop\":\n",
    "        break"
   ]
  },
  {
   "cell_type": "code",
   "execution_count": null,
   "id": "dffa097a",
   "metadata": {},
   "outputs": [],
   "source": []
  }
 ],
 "metadata": {
  "kernelspec": {
   "display_name": "Python 3",
   "language": "python",
   "name": "python3"
  },
  "language_info": {
   "codemirror_mode": {
    "name": "ipython",
    "version": 3
   },
   "file_extension": ".py",
   "mimetype": "text/x-python",
   "name": "python",
   "nbconvert_exporter": "python",
   "pygments_lexer": "ipython3",
   "version": "3.8.8"
  }
 },
 "nbformat": 4,
 "nbformat_minor": 5
}
