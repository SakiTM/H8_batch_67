{
 "cells": [
  {
   "cell_type": "code",
   "execution_count": 1,
   "id": "428d8170",
   "metadata": {},
   "outputs": [],
   "source": [
    "def function_name (parameter):\n",
    "    \"docstring\"\n",
    "    statement (s)\n",
    "    "
   ]
  },
  {
   "cell_type": "code",
   "execution_count": 28,
   "id": "51635f5c",
   "metadata": {},
   "outputs": [
    {
     "name": "stdout",
     "output_type": "stream",
     "text": [
      "Result = 10.0\n"
     ]
    }
   ],
   "source": [
    "def hitung (angka_1, angka_2, angka_3):\n",
    "    \"contoh hitung\"\n",
    "    result = angka_1 + angka_2\n",
    "    result = result/angka_3\n",
    "    print ('Result =', result)\n",
    "    \n",
    "    return result\n",
    "x = 10\n",
    "y = 20\n",
    "z = 3\n",
    "\n",
    "ABC = hitung (angka_1=x, angka_2=y, angka_3=z)\n"
   ]
  },
  {
   "cell_type": "code",
   "execution_count": 50,
   "id": "ddcdb222",
   "metadata": {},
   "outputs": [
    {
     "name": "stdout",
     "output_type": "stream",
     "text": [
      "Luas 1.25\n"
     ]
    }
   ],
   "source": [
    "def Luas(p,x):\n",
    "    \"Function untuk menghitung luas\"\n",
    "    \n",
    "    result = p * x\n",
    "    \n",
    "    print ('Luas' , p * x)\n",
    "    \n",
    "Luas = Luas (5, 4 )"
   ]
  },
  {
   "cell_type": "code",
   "execution_count": 53,
   "id": "08f70c8d",
   "metadata": {},
   "outputs": [
    {
     "name": "stdout",
     "output_type": "stream",
     "text": [
      "Pemanggilan pertama ke fungsi\n",
      "Pemanggilan kedua ke fungsi\n"
     ]
    }
   ],
   "source": [
    "#definisi fungsi\n",
    "def printme (str):\n",
    "    \"This string a passed string into this function \"\n",
    "    print (str)\n",
    "    return;\n",
    "#sekarang bisa meng Call fungsi printme di atas\n",
    "printme ('Pemanggilan pertama ke fungsi')\n",
    "printme ('Pemanggilan kedua ke fungsi')"
   ]
  },
  {
   "cell_type": "code",
   "execution_count": 55,
   "id": "3ae9b4c1",
   "metadata": {},
   "outputs": [
    {
     "name": "stdout",
     "output_type": "stream",
     "text": [
      "value inside function:  [10, 20, 30, [1, 2, 3, 4]]\n",
      "Values outside the function: [10, 20, 30, [1, 2, 3, 4]]\n"
     ]
    }
   ],
   "source": [
    "#defenisi funsi\n",
    "def changeme (mylist):\n",
    "    \"This changes a passed list into this function\"\n",
    "    mylist.append ([1,2,3,4]);\n",
    "    print (\"value inside function: \", mylist)\n",
    "#Calling fungsi\n",
    "mylist = [10,20,30];\n",
    "changeme (mylist);\n",
    "print (\"Values outside the function:\", mylist)\n"
   ]
  },
  {
   "cell_type": "code",
   "execution_count": 58,
   "id": "03d384a3",
   "metadata": {},
   "outputs": [
    {
     "name": "stdout",
     "output_type": "stream",
     "text": [
      "value inside function:  [1, 2, 3, 4]\n",
      "Values outside the function: [10, 20, 30]\n"
     ]
    }
   ],
   "source": [
    "#defenisi funsi\n",
    "def changeme (mylist):\n",
    "    \"This changes a passed list into this function\"\n",
    "    mylist = [1,2,3,4];\n",
    "    print (\"value inside function: \", mylist)\n",
    "    return\n",
    "#Calling fungsi\n",
    "mylist = [10,20,30];\n",
    "changeme (mylist);\n",
    "print (\"Values outside the function:\", mylist)"
   ]
  },
  {
   "cell_type": "code",
   "execution_count": 60,
   "id": "6b4bb144",
   "metadata": {},
   "outputs": [
    {
     "name": "stdout",
     "output_type": "stream",
     "text": [
      "siska\n"
     ]
    }
   ],
   "source": [
    "#definisi fungsi\n",
    "def printme (str):\n",
    "    \"This string a passed string into this function \"\n",
    "    print (str)\n",
    "    return;\n",
    "#sekarang panggil fungsi printme\n",
    "printme (str = 'siska')"
   ]
  },
  {
   "cell_type": "code",
   "execution_count": 64,
   "id": "c04f9f19",
   "metadata": {},
   "outputs": [
    {
     "name": "stdout",
     "output_type": "stream",
     "text": [
      "Nama: Siska\n",
      "Age: 17\n"
     ]
    }
   ],
   "source": [
    "a = 'Siska'\n",
    "#definisi fungsi\n",
    "def printinfo (name, age):\n",
    "    \"This prints a passed string into this function \"\n",
    "    print (\"Nama:\",name)\n",
    "    print (\"Age:\", age)\n",
    "    return;\n",
    "#sekarang panggil fungsi printme\n",
    "printinfo (age = 17, name = a)"
   ]
  },
  {
   "cell_type": "code",
   "execution_count": 65,
   "id": "0c8a25c4",
   "metadata": {},
   "outputs": [
    {
     "name": "stdout",
     "output_type": "stream",
     "text": [
      "Nama: Siska\n",
      "Age: 17\n",
      "Nama: Inu\n",
      "Age: 25\n"
     ]
    }
   ],
   "source": [
    "a = 'Siska'\n",
    "b = 'Inu'\n",
    "#definisi fungsi\n",
    "def printinfo (name, age = 25):\n",
    "    \"This prints a passed string into this function \"\n",
    "    print (\"Nama:\",name)\n",
    "    print (\"Age:\", age)\n",
    "    return;\n",
    "#sekarang panggil fungsi printme\n",
    "printinfo (age = 17, name = a)\n",
    "printinfo (name = b)\n"
   ]
  },
  {
   "cell_type": "code",
   "execution_count": 71,
   "id": "bfb9dc70",
   "metadata": {},
   "outputs": [
    {
     "name": "stdout",
     "output_type": "stream",
     "text": [
      "Output is:\n",
      "10\n",
      "Output is:\n",
      "70\n",
      "60\n",
      "50\n",
      "a\n"
     ]
    }
   ],
   "source": [
    "#defenisi fungsi \n",
    "def printinfo (arg1, *vartuple):\n",
    "    \"this prints a variable passed arguments\"\n",
    "    print (\"Output is:\")\n",
    "    print (arg1)\n",
    "    for var in vartuple:\n",
    "        print (var)\n",
    "    return;\n",
    "#sekarang panggil printinfo\n",
    "printinfo (10)\n",
    "printinfo (70,60,50,\"a\")"
   ]
  },
  {
   "cell_type": "code",
   "execution_count": 79,
   "id": "349cf63d",
   "metadata": {},
   "outputs": [
    {
     "name": "stdout",
     "output_type": "stream",
     "text": [
      "Value of total: 30\n",
      "Value of total: 40\n"
     ]
    }
   ],
   "source": [
    "#defenisi fungsi\n",
    "sum = lambda arg1, arg2: arg1 + arg2;\n",
    "\n",
    "def sum_(arg1, arg2):#variabel ga boleh formula sum formula jadi harus dimodif\n",
    "    arg1 + arg2 \n",
    "#pemanggilan fungsi\n",
    "print (\"Value of total:\", sum (10, 20))\n",
    "print (\"Value of total:\", sum (20, 20))"
   ]
  },
  {
   "cell_type": "code",
   "execution_count": 80,
   "id": "250c44bd",
   "metadata": {},
   "outputs": [
    {
     "name": "stdout",
     "output_type": "stream",
     "text": [
      "Inside the function: 30\n",
      "Otside the function: 40\n"
     ]
    }
   ],
   "source": [
    "#Defenisi fungsi\n",
    "def sum (arg1, arg2):\n",
    "    #tambahkan kedua parameter dan return\n",
    "    total = arg1 + arg2\n",
    "    total2 = total + arg1\n",
    "    print (\"Inside the function:\", total)\n",
    "    return total2\n",
    "#sekarang pemanggilan fungsi\n",
    "total = sum (10, 20)\n",
    "print (\"Otside the function:\", total)\n",
    "    "
   ]
  },
  {
   "cell_type": "code",
   "execution_count": 109,
   "id": "6d8b1696",
   "metadata": {},
   "outputs": [
    {
     "name": "stdout",
     "output_type": "stream",
     "text": [
      "Inside the function local total: 30\n",
      "Outside the function global total: 0\n"
     ]
    }
   ],
   "source": [
    "total = 0;\n",
    "def sum(arg1, arg2):\n",
    "    total = arg1 + arg2;\n",
    "    print (\"Inside the function local total:\", total)\n",
    "    return total;\n",
    "sum(10,20);\n",
    "def min ():\n",
    "    sum(10,20);\n",
    "print (\"Outside the function global total:\", total)"
   ]
  },
  {
   "cell_type": "code",
   "execution_count": 100,
   "id": "8f20e26f",
   "metadata": {},
   "outputs": [
    {
     "data": {
      "text/plain": [
       "40"
      ]
     },
     "execution_count": 100,
     "metadata": {},
     "output_type": "execute_result"
    }
   ],
   "source": [
    "jumlahkucing = 20\n",
    "def jumlahhewan():\n",
    "    jumlahanjing = 30\n",
    "    return jumlahkucing + jumlahanjing\n",
    "def jumlahkelinci():\n",
    "    return jumlahkucing + jumlahkucing\n",
    "jumlahhewan()\n",
    "jumlahkelinci()\n"
   ]
  },
  {
   "cell_type": "code",
   "execution_count": 112,
   "id": "5be4a497",
   "metadata": {},
   "outputs": [],
   "source": [
    "s = \"Hacktiv8-PTP Python For Data Scince\"\n",
    "a = [100, 200, 300]\n",
    "def foo(arg):\n",
    "    print (f'arg ={arg}')\n",
    "class Foo:\n",
    "    pass"
   ]
  },
  {
   "cell_type": "code",
   "execution_count": 130,
   "id": "88c61d98",
   "metadata": {},
   "outputs": [
    {
     "name": "stdout",
     "output_type": "stream",
     "text": [
      "<module 'mod' from 'C:\\\\Users\\\\Owner\\\\mod.py'>\n",
      "Hacktiv8-PTP Python for Data Scince\n",
      "[100, 200, 300]\n",
      "arg =['quux', 'corge', 'grault']\n"
     ]
    },
    {
     "data": {
      "text/plain": [
       "<mod.Foo at 0x16168a212b0>"
      ]
     },
     "execution_count": 130,
     "metadata": {},
     "output_type": "execute_result"
    }
   ],
   "source": [
    ">>> import mod\n",
    ">>> print (mod)\n",
    ">>> print (mod.s)\n",
    ">>> print (mod.a)\n",
    "\n",
    ">>> mod.foo(['quux', 'corge', 'grault'])\n",
    "\n",
    ">>> x = mod.Foo()\n",
    ">>> x\n"
   ]
  },
  {
   "cell_type": "code",
   "execution_count": 118,
   "id": "f044205c",
   "metadata": {},
   "outputs": [
    {
     "data": {
      "text/plain": [
       "['C:\\\\Users\\\\Owner',\n",
       " 'C:\\\\Users\\\\Owner\\\\anaconda3\\\\python38.zip',\n",
       " 'C:\\\\Users\\\\Owner\\\\anaconda3\\\\DLLs',\n",
       " 'C:\\\\Users\\\\Owner\\\\anaconda3\\\\lib',\n",
       " 'C:\\\\Users\\\\Owner\\\\anaconda3',\n",
       " '',\n",
       " 'C:\\\\Users\\\\Owner\\\\anaconda3\\\\lib\\\\site-packages',\n",
       " 'C:\\\\Users\\\\Owner\\\\anaconda3\\\\lib\\\\site-packages\\\\locket-0.2.1-py3.8.egg',\n",
       " 'C:\\\\Users\\\\Owner\\\\anaconda3\\\\lib\\\\site-packages\\\\win32',\n",
       " 'C:\\\\Users\\\\Owner\\\\anaconda3\\\\lib\\\\site-packages\\\\win32\\\\lib',\n",
       " 'C:\\\\Users\\\\Owner\\\\anaconda3\\\\lib\\\\site-packages\\\\Pythonwin',\n",
       " 'C:\\\\Users\\\\Owner\\\\anaconda3\\\\lib\\\\site-packages\\\\IPython\\\\extensions',\n",
       " 'C:\\\\Users\\\\Owner\\\\.ipython']"
      ]
     },
     "execution_count": 118,
     "metadata": {},
     "output_type": "execute_result"
    }
   ],
   "source": [
    ">>> import sys\n",
    ">>> sys.path"
   ]
  },
  {
   "cell_type": "code",
   "execution_count": null,
   "id": "5269e59e",
   "metadata": {},
   "outputs": [],
   "source": []
  },
  {
   "cell_type": "code",
   "execution_count": 120,
   "id": "28b71bd7",
   "metadata": {},
   "outputs": [
    {
     "data": {
      "text/plain": [
       "<module 'mod' from 'C:\\\\Users\\\\Owner\\\\mod.py'>"
      ]
     },
     "execution_count": 120,
     "metadata": {},
     "output_type": "execute_result"
    }
   ],
   "source": [
    ">>> import mod\n",
    ">>> mod"
   ]
  },
  {
   "cell_type": "code",
   "execution_count": 133,
   "id": "ddd367ea",
   "metadata": {},
   "outputs": [
    {
     "name": "stdout",
     "output_type": "stream",
     "text": [
      "Hacktiv8-PTP Python for Data Scince\n",
      "arg =quux\n"
     ]
    }
   ],
   "source": [
    ">>> print (mod.s)\n",
    ">>> mod.foo ('quux')"
   ]
  },
  {
   "cell_type": "code",
   "execution_count": 137,
   "id": "b9c96a10",
   "metadata": {},
   "outputs": [
    {
     "name": "stdout",
     "output_type": "stream",
     "text": [
      "Hacktiv8-PTP Python for Data Scince\n",
      "arg =quux)\n"
     ]
    },
    {
     "data": {
      "text/plain": [
       "<mod.Foo at 0x16168a21100>"
      ]
     },
     "execution_count": 137,
     "metadata": {},
     "output_type": "execute_result"
    }
   ],
   "source": [
    ">>> from mod import s, foo\n",
    ">>> print (s)\n",
    ">>> foo ('quux)')\n",
    ">>> from mod import Foo\n",
    ">>> x = Foo()\n",
    ">>> x"
   ]
  },
  {
   "cell_type": "code",
   "execution_count": 142,
   "id": "1e153042",
   "metadata": {},
   "outputs": [
    {
     "data": {
      "text/plain": [
       "[100, 200, 300]"
      ]
     },
     "execution_count": 142,
     "metadata": {},
     "output_type": "execute_result"
    }
   ],
   "source": [
    ">>> a = ['foo, bar', 'baz']\n",
    ">>> a\n",
    "\n",
    ">>> from mod import a\n",
    ">>> a\n"
   ]
  },
  {
   "cell_type": "code",
   "execution_count": 143,
   "id": "3887c86f",
   "metadata": {},
   "outputs": [
    {
     "data": {
      "text/plain": [
       "'Hacktiv8-PTP Python for Data Scince'"
      ]
     },
     "execution_count": 143,
     "metadata": {},
     "output_type": "execute_result"
    }
   ],
   "source": [
    ">>> from mod import *\n",
    ">>> s"
   ]
  },
  {
   "cell_type": "code",
   "execution_count": 144,
   "id": "0887d2c5",
   "metadata": {},
   "outputs": [
    {
     "data": {
      "text/plain": [
       "[100, 200, 300]"
      ]
     },
     "execution_count": 144,
     "metadata": {},
     "output_type": "execute_result"
    }
   ],
   "source": [
    ">>> a"
   ]
  },
  {
   "cell_type": "code",
   "execution_count": 145,
   "id": "542363e4",
   "metadata": {},
   "outputs": [
    {
     "data": {
      "text/plain": [
       "<function mod.foo(arg)>"
      ]
     },
     "execution_count": 145,
     "metadata": {},
     "output_type": "execute_result"
    }
   ],
   "source": [
    ">>> foo"
   ]
  },
  {
   "cell_type": "code",
   "execution_count": 146,
   "id": "7218a6f7",
   "metadata": {},
   "outputs": [
    {
     "data": {
      "text/plain": [
       "mod.Foo"
      ]
     },
     "execution_count": 146,
     "metadata": {},
     "output_type": "execute_result"
    }
   ],
   "source": [
    ">>> Foo"
   ]
  },
  {
   "cell_type": "code",
   "execution_count": 148,
   "id": "31181f00",
   "metadata": {},
   "outputs": [
    {
     "data": {
      "text/plain": [
       "'Hacktiv8-PTP Python for Data Scince'"
      ]
     },
     "execution_count": 148,
     "metadata": {},
     "output_type": "execute_result"
    }
   ],
   "source": [
    ">>> s = 'foo'\n",
    ">>> a = ['foo', 'bar', 'baz']\n",
    ">>> from mod import s as string, a as alist\n",
    ">>> s\n"
   ]
  },
  {
   "cell_type": "code",
   "execution_count": 149,
   "id": "834b5dcb",
   "metadata": {},
   "outputs": [
    {
     "data": {
      "text/plain": [
       "'Hacktiv8-PTP Python for Data Scince'"
      ]
     },
     "execution_count": 149,
     "metadata": {},
     "output_type": "execute_result"
    }
   ],
   "source": [
    ">>> string"
   ]
  },
  {
   "cell_type": "code",
   "execution_count": 150,
   "id": "362ae5c1",
   "metadata": {},
   "outputs": [
    {
     "data": {
      "text/plain": [
       "['foo', 'bar', 'baz']"
      ]
     },
     "execution_count": 150,
     "metadata": {},
     "output_type": "execute_result"
    }
   ],
   "source": [
    ">>> a"
   ]
  },
  {
   "cell_type": "code",
   "execution_count": 151,
   "id": "a077affb",
   "metadata": {},
   "outputs": [
    {
     "data": {
      "text/plain": [
       "[100, 200, 300]"
      ]
     },
     "execution_count": 151,
     "metadata": {},
     "output_type": "execute_result"
    }
   ],
   "source": [
    ">>> alist"
   ]
  },
  {
   "cell_type": "code",
   "execution_count": 152,
   "id": "567d2f16",
   "metadata": {},
   "outputs": [
    {
     "data": {
      "text/plain": [
       "[100, 200, 300]"
      ]
     },
     "execution_count": 152,
     "metadata": {},
     "output_type": "execute_result"
    }
   ],
   "source": [
    ">>> import mod as my_module\n",
    ">>> my_module.a\n"
   ]
  },
  {
   "cell_type": "code",
   "execution_count": 153,
   "id": "19df09d7",
   "metadata": {},
   "outputs": [
    {
     "name": "stdout",
     "output_type": "stream",
     "text": [
      "arg =quux\n"
     ]
    }
   ],
   "source": [
    ">>> my_module.foo('quux')"
   ]
  },
  {
   "cell_type": "code",
   "execution_count": 170,
   "id": "48075c1e",
   "metadata": {},
   "outputs": [
    {
     "name": "stdout",
     "output_type": "stream",
     "text": [
      "['ABC', 'Bar', 'Bar_', 'Foo', 'In', 'Luas', 'Out', '_', '_100', '_118', '_120', '_122', '_125', '_126', '_127', '_128', '_129', '_130', '_134', '_137', '_138', '_139', '_140', '_141', '_142', '_143', '_144', '_145', '_146', '_147', '_148', '_149', '_150', '_151', '_152', '_157', '_158', '_161', '_163', '_164', '_165', '__', '___', '__builtin__', '__builtins__', '__doc__', '__loader__', '__name__', '__package__', '__spec__', '_dh', '_i', '_i1', '_i10', '_i100', '_i101', '_i102', '_i103', '_i104', '_i105', '_i106', '_i107', '_i108', '_i109', '_i11', '_i110', '_i111', '_i112', '_i113', '_i114', '_i115', '_i116', '_i117', '_i118', '_i119', '_i12', '_i120', '_i121', '_i122', '_i123', '_i124', '_i125', '_i126', '_i127', '_i128', '_i129', '_i13', '_i130', '_i131', '_i132', '_i133', '_i134', '_i135', '_i136', '_i137', '_i138', '_i139', '_i14', '_i140', '_i141', '_i142', '_i143', '_i144', '_i145', '_i146', '_i147', '_i148', '_i149', '_i15', '_i150', '_i151', '_i152', '_i153', '_i154', '_i155', '_i156', '_i157', '_i158', '_i159', '_i16', '_i160', '_i161', '_i162', '_i163', '_i164', '_i165', '_i166', '_i167', '_i168', '_i169', '_i17', '_i170', '_i18', '_i19', '_i2', '_i20', '_i21', '_i22', '_i23', '_i24', '_i25', '_i26', '_i27', '_i28', '_i29', '_i3', '_i30', '_i31', '_i32', '_i33', '_i34', '_i35', '_i36', '_i37', '_i38', '_i39', '_i4', '_i40', '_i41', '_i42', '_i43', '_i44', '_i45', '_i46', '_i47', '_i48', '_i49', '_i5', '_i50', '_i51', '_i52', '_i53', '_i54', '_i55', '_i56', '_i57', '_i58', '_i59', '_i6', '_i60', '_i61', '_i62', '_i63', '_i64', '_i65', '_i66', '_i67', '_i68', '_i69', '_i7', '_i70', '_i71', '_i72', '_i73', '_i74', '_i75', '_i76', '_i77', '_i78', '_i79', '_i8', '_i80', '_i81', '_i82', '_i83', '_i84', '_i85', '_i86', '_i87', '_i88', '_i89', '_i9', '_i90', '_i91', '_i92', '_i93', '_i94', '_i95', '_i96', '_i97', '_i98', '_i99', '_ih', '_ii', '_iii', '_oh', 'a', 'alist', 'arg', 'b', 'changeme', 'changme', 'exit', 'foo', 'function_name', 'get_ipython', 'hitung', 'jumlah', 'jumlahhewan', 'jumlahkelinci', 'jumlahkucing', 'min', 'mod', 'my_function', 'my_module', 'mylist', 'p', 'printinfo', 'printme', 'quit', 'qux', 's', 'string', 'sum', 'sum_', 'sys', 'total', 'x', 'y', 'z']\n"
     ]
    }
   ],
   "source": [
    ">>> dir ()\n",
    ">>> qux = [1, 2, 3, 4, 5]\n",
    ">>> dir ()\n",
    ">>> class Bar_():\n",
    "    pass\n",
    ">>> x = Bar_()\n",
    ">>> print (dir ())"
   ]
  },
  {
   "cell_type": "code",
   "execution_count": 179,
   "id": "5b8b1a4d",
   "metadata": {},
   "outputs": [
    {
     "name": "stdout",
     "output_type": "stream",
     "text": [
      "arg =[1, 2, 3]\n"
     ]
    }
   ],
   "source": [
    ">>> dir()\n",
    ">>> import mod\n",
    ">>> dir ()\n",
    ">>> mod. s\n",
    ">>> mod.foo ([1, 2, 3])"
   ]
  },
  {
   "cell_type": "code",
   "execution_count": 184,
   "id": "632a2440",
   "metadata": {},
   "outputs": [
    {
     "data": {
      "text/plain": [
       "[100, 200, 300]"
      ]
     },
     "execution_count": 184,
     "metadata": {},
     "output_type": "execute_result"
    }
   ],
   "source": [
    ">>> from mod import a, Foo\n",
    ">>> dir ()\n",
    ">>> a\n"
   ]
  },
  {
   "cell_type": "code",
   "execution_count": 183,
   "id": "6cbb016a",
   "metadata": {},
   "outputs": [
    {
     "data": {
      "text/plain": [
       "<mod.Foo at 0x16168a21790>"
      ]
     },
     "execution_count": 183,
     "metadata": {},
     "output_type": "execute_result"
    }
   ],
   "source": [
    ">>> x = Foo()\n",
    "\n",
    ">>> x"
   ]
  },
  {
   "cell_type": "code",
   "execution_count": 185,
   "id": "2ae9ca56",
   "metadata": {},
   "outputs": [
    {
     "data": {
      "text/plain": [
       "'Hacktiv8-PTP Python for Data Scince'"
      ]
     },
     "execution_count": 185,
     "metadata": {},
     "output_type": "execute_result"
    }
   ],
   "source": [
    ">>> from mod import s as string\n",
    ">>> dir ()\n",
    ">>> string"
   ]
  },
  {
   "cell_type": "code",
   "execution_count": 186,
   "id": "7f5e9658",
   "metadata": {},
   "outputs": [
    {
     "data": {
      "text/plain": [
       "['Foo',\n",
       " '__builtins__',\n",
       " '__cached__',\n",
       " '__doc__',\n",
       " '__file__',\n",
       " '__loader__',\n",
       " '__name__',\n",
       " '__package__',\n",
       " '__spec__',\n",
       " 'a',\n",
       " 'foo',\n",
       " 's']"
      ]
     },
     "execution_count": 186,
     "metadata": {},
     "output_type": "execute_result"
    }
   ],
   "source": [
    ">>> import mod\n",
    ">>> dir (mod)"
   ]
  },
  {
   "cell_type": "code",
   "execution_count": 188,
   "id": "9a082afa",
   "metadata": {},
   "outputs": [
    {
     "data": {
      "text/plain": [
       "['Foo',\n",
       " '__builtins__',\n",
       " '__cached__',\n",
       " '__doc__',\n",
       " '__file__',\n",
       " '__loader__',\n",
       " '__name__',\n",
       " '__package__',\n",
       " '__spec__',\n",
       " 'a',\n",
       " 'foo',\n",
       " 's']"
      ]
     },
     "execution_count": 188,
     "metadata": {},
     "output_type": "execute_result"
    }
   ],
   "source": [
    ">>> from mod import *\n",
    ">>> dir(mod)"
   ]
  },
  {
   "cell_type": "code",
   "execution_count": 214,
   "id": "10972ccd",
   "metadata": {},
   "outputs": [
    {
     "data": {
      "text/plain": [
       "['Foo',\n",
       " '__builtins__',\n",
       " '__cached__',\n",
       " '__doc__',\n",
       " '__file__',\n",
       " '__loader__',\n",
       " '__name__',\n",
       " '__package__',\n",
       " '__spec__',\n",
       " 'a',\n",
       " 'foo',\n",
       " 's',\n",
       " 'x']"
      ]
     },
     "execution_count": 214,
     "metadata": {},
     "output_type": "execute_result"
    }
   ],
   "source": [
    ">>> import mod1\n",
    ">>> dir (mod1)"
   ]
  },
  {
   "cell_type": "code",
   "execution_count": 215,
   "id": "b35a0cb5",
   "metadata": {},
   "outputs": [
    {
     "data": {
      "text/plain": [
       "['Foo',\n",
       " '__builtins__',\n",
       " '__cached__',\n",
       " '__doc__',\n",
       " '__file__',\n",
       " '__loader__',\n",
       " '__name__',\n",
       " '__package__',\n",
       " '__spec__',\n",
       " 'a',\n",
       " 'foo',\n",
       " 's']"
      ]
     },
     "execution_count": 215,
     "metadata": {},
     "output_type": "execute_result"
    }
   ],
   "source": [
    ">>> import mod2\n",
    ">>> dir (mod2)"
   ]
  },
  {
   "cell_type": "code",
   "execution_count": 250,
   "id": "3ff496cb",
   "metadata": {},
   "outputs": [],
   "source": [
    ">>> import mod1"
   ]
  },
  {
   "cell_type": "code",
   "execution_count": 251,
   "id": "87bc3c67",
   "metadata": {},
   "outputs": [],
   "source": [
    ">>> import mod2"
   ]
  },
  {
   "cell_type": "code",
   "execution_count": 252,
   "id": "98f3a881",
   "metadata": {},
   "outputs": [
    {
     "name": "stdout",
     "output_type": "stream",
     "text": [
      "arg =grault\n"
     ]
    }
   ],
   "source": [
    ">>> import mod2\n",
    ">>> mod.foo ('grault')"
   ]
  },
  {
   "cell_type": "code",
   "execution_count": 253,
   "id": "df62094d",
   "metadata": {},
   "outputs": [
    {
     "data": {
      "text/plain": [
       "720"
      ]
     },
     "execution_count": 253,
     "metadata": {},
     "output_type": "execute_result"
    }
   ],
   "source": [
    ">>> from fact import fact\n",
    ">>> fact (6)"
   ]
  },
  {
   "cell_type": "code",
   "execution_count": 256,
   "id": "65253f76",
   "metadata": {},
   "outputs": [
    {
     "data": {
      "text/plain": [
       "[100, 200, 300]"
      ]
     },
     "execution_count": 256,
     "metadata": {},
     "output_type": "execute_result"
    }
   ],
   "source": [
    ">>> import mod\n",
    ">>> mod.a"
   ]
  },
  {
   "cell_type": "code",
   "execution_count": 263,
   "id": "f719f958",
   "metadata": {},
   "outputs": [
    {
     "name": "stdout",
     "output_type": "stream",
     "text": [
      "[mod4] foo ()\n"
     ]
    }
   ],
   "source": [
    ">>> import pkg.mod4, pkg.mod5\n",
    ">>> pkg.mod4.foo()"
   ]
  },
  {
   "cell_type": "code",
   "execution_count": 264,
   "id": "02319f3e",
   "metadata": {},
   "outputs": [
    {
     "data": {
      "text/plain": [
       "<pkg.mod5.Bar at 0x16168a700a0>"
      ]
     },
     "execution_count": 264,
     "metadata": {},
     "output_type": "execute_result"
    }
   ],
   "source": [
    ">>> x = pkg.mod5.Bar()\n",
    ">>> x"
   ]
  },
  {
   "cell_type": "code",
   "execution_count": 265,
   "id": "4320e79b",
   "metadata": {},
   "outputs": [
    {
     "data": {
      "text/plain": [
       "<pkg.mod5.Bar at 0x16168a700d0>"
      ]
     },
     "execution_count": 265,
     "metadata": {},
     "output_type": "execute_result"
    }
   ],
   "source": [
    ">>> from pkg.mod5 import Bar as Qux\n",
    ">>> x = Qux ()\n",
    ">>> x"
   ]
  },
  {
   "cell_type": "code",
   "execution_count": 267,
   "id": "66618169",
   "metadata": {},
   "outputs": [
    {
     "name": "stdout",
     "output_type": "stream",
     "text": [
      "[mod4] foo ()\n"
     ]
    }
   ],
   "source": [
    ">>> from pkg import mod4\n",
    ">>> mod4.foo()"
   ]
  },
  {
   "cell_type": "code",
   "execution_count": 271,
   "id": "18c04c1a",
   "metadata": {},
   "outputs": [
    {
     "name": "stdout",
     "output_type": "stream",
     "text": [
      "[mod5] bar ()\n"
     ]
    }
   ],
   "source": [
    ">>> from pkg import mod5 as quux\n",
    ">>> quux.bar()"
   ]
  },
  {
   "cell_type": "code",
   "execution_count": 272,
   "id": "d0901b9d",
   "metadata": {},
   "outputs": [
    {
     "data": {
      "text/plain": [
       "<module 'pkg' (namespace)>"
      ]
     },
     "execution_count": 272,
     "metadata": {},
     "output_type": "execute_result"
    }
   ],
   "source": [
    ">>> import pkg\n",
    ">>> pkg"
   ]
  },
  {
   "cell_type": "code",
   "execution_count": 273,
   "id": "6eeb149c",
   "metadata": {},
   "outputs": [
    {
     "data": {
      "text/plain": [
       "<module 'pkg.mod4' from 'C:\\\\Users\\\\Owner\\\\pkg\\\\mod4.py'>"
      ]
     },
     "execution_count": 273,
     "metadata": {},
     "output_type": "execute_result"
    }
   ],
   "source": [
    ">>> pkg.mod4"
   ]
  },
  {
   "cell_type": "code",
   "execution_count": 274,
   "id": "c8061edf",
   "metadata": {},
   "outputs": [
    {
     "name": "stdout",
     "output_type": "stream",
     "text": [
      "[mod4] foo ()\n"
     ]
    }
   ],
   "source": [
    ">>> pkg.mod4.foo()"
   ]
  },
  {
   "cell_type": "code",
   "execution_count": 275,
   "id": "627dd515",
   "metadata": {},
   "outputs": [
    {
     "data": {
      "text/plain": [
       "<pkg.mod5.Bar at 0x16168a70730>"
      ]
     },
     "execution_count": 275,
     "metadata": {},
     "output_type": "execute_result"
    }
   ],
   "source": [
    ">>> pkg.mod5.Bar()"
   ]
  },
  {
   "cell_type": "code",
   "execution_count": null,
   "id": "154386c8",
   "metadata": {},
   "outputs": [],
   "source": []
  },
  {
   "cell_type": "code",
   "execution_count": 294,
   "id": "c5b96e81",
   "metadata": {},
   "outputs": [
    {
     "name": "stdout",
     "output_type": "stream",
     "text": [
      "\n",
      "Usage:   \n",
      "  C:\\Users\\Owner\\anaconda3\\python.exe -m pip <command> [options]\n",
      "\n",
      "Commands:\n",
      "  install                     Install packages.\n",
      "  download                    Download packages.\n",
      "  uninstall                   Uninstall packages.\n",
      "  freeze                      Output installed packages in requirements format.\n",
      "  list                        List installed packages.\n",
      "  show                        Show information about installed packages.\n",
      "  check                       Verify installed packages have compatible dependencies.\n",
      "  config                      Manage local and global configuration.\n",
      "  search                      Search PyPI for packages.\n",
      "  cache                       Inspect and manage pip's wheel cache.\n",
      "  wheel                       Build wheels from your requirements.\n",
      "  hash                        Compute hashes of package archives.\n",
      "  completion                  A helper command used for command completion.\n",
      "  debug                       Show information useful for debugging.\n",
      "  help                        Show help for commands.\n",
      "\n",
      "General Options:\n",
      "  -h, --help                  Show help.\n",
      "  --isolated                  Run pip in an isolated mode, ignoring\n",
      "                              environment variables and user configuration.\n",
      "  -v, --verbose               Give more output. Option is additive, and can be\n",
      "                              used up to 3 times.\n",
      "  -V, --version               Show version and exit.\n",
      "  -q, --quiet                 Give less output. Option is additive, and can be\n",
      "                              used up to 3 times (corresponding to WARNING,\n",
      "                              ERROR, and CRITICAL logging levels).\n",
      "  --log <path>                Path to a verbose appending log.\n",
      "  --no-input                  Disable prompting for input.\n",
      "  --proxy <proxy>             Specify a proxy in the form\n",
      "                              [user:passwd@]proxy.server:port.\n",
      "  --retries <retries>         Maximum number of retries each connection should\n",
      "                              attempt (default 5 times).\n",
      "  --timeout <sec>             Set the socket timeout (default 15 seconds).\n",
      "  --exists-action <action>    Default action when a path already exists:\n",
      "                              (s)witch, (i)gnore, (w)ipe, (b)ackup, (a)bort.\n",
      "  --trusted-host <hostname>   Mark this host or host:port pair as trusted,\n",
      "                              even though it does not have valid or any HTTPS.\n",
      "  --cert <path>               Path to alternate CA bundle.\n",
      "  --client-cert <path>        Path to SSL client certificate, a single file\n",
      "                              containing the private key and the certificate\n",
      "                              in PEM format.\n",
      "  --cache-dir <dir>           Store the cache data in <dir>.\n",
      "  --no-cache-dir              Disable the cache.\n",
      "  --disable-pip-version-check\n",
      "                              Don't periodically check PyPI to determine\n",
      "                              whether a new version of pip is available for\n",
      "                              download. Implied with --no-index.\n",
      "  --no-color                  Suppress colored output.\n",
      "  --no-python-version-warning\n",
      "                              Silence deprecation warnings for upcoming\n",
      "                              unsupported Pythons.\n",
      "  --use-feature <feature>     Enable new functionality, that may be backward\n",
      "                              incompatible.\n",
      "  --use-deprecated <feature>  Enable deprecated functionality, that will be\n",
      "                              removed in the future.\n",
      "Note: you may need to restart the kernel to use updated packages.\n"
     ]
    }
   ],
   "source": [
    "pip help"
   ]
  },
  {
   "cell_type": "code",
   "execution_count": 306,
   "id": "725a469c",
   "metadata": {},
   "outputs": [
    {
     "name": "stdout",
     "output_type": "stream",
     "text": [
      "Could not fetch URL https://pypi.org/simple/packages/: There was a problem confirming the ssl certificate: HTTPSConnectionPool(host='pypi.org', port=443): Max retries exceeded with url: /simple/packages/ (Caused by SSLError(SSLError(1, '[SSL: WRONG_VERSION_NUMBER] wrong version number (_ssl.c:1125)'))) - skipping\n",
      "Note: you may need to restart the kernel to use updated packages.\n"
     ]
    },
    {
     "name": "stderr",
     "output_type": "stream",
     "text": [
      "WARNING: Retrying (Retry(total=4, connect=None, read=None, redirect=None, status=None)) after connection broken by 'SSLError(SSLError(1, '[SSL: WRONG_VERSION_NUMBER] wrong version number (_ssl.c:1125)'))': /simple/packages/\n",
      "WARNING: Retrying (Retry(total=3, connect=None, read=None, redirect=None, status=None)) after connection broken by 'SSLError(SSLError(1, '[SSL: WRONG_VERSION_NUMBER] wrong version number (_ssl.c:1125)'))': /simple/packages/\n",
      "WARNING: Retrying (Retry(total=2, connect=None, read=None, redirect=None, status=None)) after connection broken by 'SSLError(SSLError(1, '[SSL: WRONG_VERSION_NUMBER] wrong version number (_ssl.c:1125)'))': /simple/packages/\n",
      "WARNING: Retrying (Retry(total=1, connect=None, read=None, redirect=None, status=None)) after connection broken by 'SSLError(SSLError(1, '[SSL: WRONG_VERSION_NUMBER] wrong version number (_ssl.c:1125)'))': /simple/packages/\n",
      "WARNING: Retrying (Retry(total=0, connect=None, read=None, redirect=None, status=None)) after connection broken by 'SSLError(SSLError(1, '[SSL: WRONG_VERSION_NUMBER] wrong version number (_ssl.c:1125)'))': /simple/packages/\n",
      "ERROR: Could not find a version that satisfies the requirement packages\n",
      "ERROR: No matching distribution found for packages\n"
     ]
    }
   ],
   "source": [
    "pip install packages"
   ]
  },
  {
   "cell_type": "code",
   "execution_count": 301,
   "id": "1cff2e6d",
   "metadata": {},
   "outputs": [
    {
     "name": "stdout",
     "output_type": "stream",
     "text": [
      "Package                            Version\n",
      "---------------------------------- -------------------\n",
      "alabaster                          0.7.12\n",
      "anaconda-client                    1.7.2\n",
      "anaconda-navigator                 2.0.3\n",
      "anaconda-project                   0.9.1\n",
      "anyio                              2.2.0\n",
      "appdirs                            1.4.4\n",
      "argh                               0.26.2\n",
      "argon2-cffi                        20.1.0\n",
      "asn1crypto                         1.4.0\n",
      "astroid                            2.5\n",
      "astropy                            4.2.1\n",
      "async-generator                    1.10\n",
      "atomicwrites                       1.4.0\n",
      "attrs                              20.3.0\n",
      "autopep8                           1.5.6\n",
      "Babel                              2.9.0\n",
      "backcall                           0.2.0\n",
      "backports.functools-lru-cache      1.6.4\n",
      "backports.shutil-get-terminal-size 1.0.0\n",
      "backports.tempfile                 1.0\n",
      "backports.weakref                  1.0.post1\n",
      "bcrypt                             3.2.0\n",
      "beautifulsoup4                     4.9.3\n",
      "bitarray                           1.9.2\n",
      "bkcharts                           0.2\n",
      "black                              19.10b0\n",
      "bleach                             3.3.0\n",
      "bokeh                              2.3.2\n",
      "boto                               2.49.0\n",
      "Bottleneck                         1.3.2\n",
      "brotlipy                           0.7.0\n",
      "certifi                            2020.12.5\n",
      "cffi                               1.14.5\n",
      "chardet                            4.0.0\n",
      "click                              7.1.2\n",
      "cloudpickle                        1.6.0\n",
      "clyent                             1.2.2\n",
      "colorama                           0.4.4\n",
      "comtypes                           1.1.9\n",
      "conda                              4.10.1\n",
      "conda-build                        3.21.4\n",
      "conda-content-trust                0+unknown\n",
      "conda-package-handling             1.7.3\n",
      "conda-repo-cli                     1.0.4\n",
      "conda-token                        0.3.0\n",
      "conda-verify                       3.4.2\n",
      "contextlib2                        0.6.0.post1\n",
      "cryptography                       3.4.7\n",
      "cycler                             0.10.0\n",
      "Cython                             0.29.23\n",
      "cytoolz                            0.11.0\n",
      "dask                               2021.4.0\n",
      "decorator                          5.0.6\n",
      "defusedxml                         0.7.1\n",
      "diff-match-patch                   20200713\n",
      "distributed                        2021.4.0\n",
      "docutils                           0.17\n",
      "entrypoints                        0.3\n",
      "et-xmlfile                         1.0.1\n",
      "fastcache                          1.1.0\n",
      "filelock                           3.0.12\n",
      "flake8                             3.9.0\n",
      "Flask                              1.1.2\n",
      "fsspec                             0.9.0\n",
      "future                             0.18.2\n",
      "gevent                             21.1.2\n",
      "glob2                              0.7\n",
      "greenlet                           1.0.0\n",
      "h5py                               2.10.0\n",
      "HeapDict                           1.0.1\n",
      "html5lib                           1.1\n",
      "idna                               2.10\n",
      "imagecodecs                        2021.3.31\n",
      "imageio                            2.9.0\n",
      "imagesize                          1.2.0\n",
      "importlib-metadata                 3.10.0\n",
      "iniconfig                          1.1.1\n",
      "intervaltree                       3.1.0\n",
      "ipykernel                          5.3.4\n",
      "ipython                            7.22.0\n",
      "ipython-genutils                   0.2.0\n",
      "ipywidgets                         7.6.3\n",
      "isort                              5.8.0\n",
      "itsdangerous                       1.1.0\n",
      "jdcal                              1.4.1\n",
      "jedi                               0.17.2\n",
      "Jinja2                             2.11.3\n",
      "joblib                             1.0.1\n",
      "json5                              0.9.5\n",
      "jsonschema                         3.2.0\n",
      "jupyter                            1.0.0\n",
      "jupyter-client                     6.1.12\n",
      "jupyter-console                    6.4.0\n",
      "jupyter-core                       4.7.1\n",
      "jupyter-packaging                  0.7.12\n",
      "jupyter-server                     1.4.1\n",
      "jupyterlab                         3.0.14\n",
      "jupyterlab-pygments                0.1.2\n",
      "jupyterlab-server                  2.4.0\n",
      "jupyterlab-widgets                 1.0.0\n",
      "keyring                            22.3.0\n",
      "kiwisolver                         1.3.1\n",
      "lazy-object-proxy                  1.6.0\n",
      "libarchive-c                       2.9\n",
      "llvmlite                           0.36.0\n",
      "locket                             0.2.1\n",
      "lxml                               4.6.3\n",
      "MarkupSafe                         1.1.1\n",
      "matplotlib                         3.3.4\n",
      "mccabe                             0.6.1\n",
      "menuinst                           1.4.16\n",
      "mistune                            0.8.4\n",
      "mkl-fft                            1.3.0\n",
      "mkl-random                         1.2.1\n",
      "mkl-service                        2.3.0\n",
      "mock                               4.0.3\n",
      "more-itertools                     8.7.0\n",
      "mpmath                             1.2.1\n",
      "msgpack                            1.0.2\n",
      "multipledispatch                   0.6.0\n",
      "mypy-extensions                    0.4.3\n",
      "navigator-updater                  0.2.1\n",
      "nbclassic                          0.2.6\n",
      "nbclient                           0.5.3\n",
      "nbconvert                          6.0.7\n",
      "nbformat                           5.1.3\n",
      "nest-asyncio                       1.5.1\n",
      "networkx                           2.5\n",
      "nltk                               3.6.1\n",
      "nose                               1.3.7\n",
      "notebook                           6.3.0\n",
      "numba                              0.53.1\n",
      "numexpr                            2.7.3\n",
      "numpy                              1.20.1\n",
      "numpydoc                           1.1.0\n",
      "olefile                            0.46\n",
      "openpyxl                           3.0.7\n",
      "packaging                          20.9\n",
      "pandas                             1.2.4\n",
      "pandocfilters                      1.4.3\n",
      "paramiko                           2.7.2\n",
      "parso                              0.7.0\n",
      "partd                              1.2.0\n",
      "path                               15.1.2\n",
      "pathlib2                           2.3.5\n",
      "pathspec                           0.7.0\n",
      "patsy                              0.5.1\n",
      "pep8                               1.7.1\n",
      "pexpect                            4.8.0\n",
      "pickleshare                        0.7.5\n",
      "Pillow                             8.2.0\n",
      "pip                                21.0.1\n",
      "pkginfo                            1.7.0\n",
      "pluggy                             0.13.1\n",
      "ply                                3.11\n",
      "prometheus-client                  0.10.1\n",
      "prompt-toolkit                     3.0.17\n",
      "psutil                             5.8.0\n",
      "ptyprocess                         0.7.0\n",
      "py                                 1.10.0\n",
      "pycodestyle                        2.6.0\n",
      "pycosat                            0.6.3\n",
      "pycparser                          2.20\n",
      "pycurl                             7.43.0.6\n",
      "pydocstyle                         6.0.0\n",
      "pyerfa                             1.7.3\n",
      "pyflakes                           2.2.0\n",
      "Pygments                           2.8.1\n",
      "pylint                             2.7.4\n",
      "pyls-black                         0.4.6\n",
      "pyls-spyder                        0.3.2\n",
      "PyNaCl                             1.4.0\n",
      "pyodbc                             4.0.0-unsupported\n",
      "pyOpenSSL                          20.0.1\n",
      "pyparsing                          2.4.7\n",
      "pyreadline                         2.1\n",
      "pyrsistent                         0.17.3\n",
      "PySocks                            1.7.1\n",
      "pytest                             6.2.3\n",
      "python-dateutil                    2.8.1\n",
      "python-jsonrpc-server              0.4.0\n",
      "python-language-server             0.36.2\n",
      "pytz                               2021.1\n",
      "PyWavelets                         1.1.1\n",
      "pywin32                            227\n",
      "pywin32-ctypes                     0.2.0\n",
      "pywinpty                           0.5.7\n",
      "PyYAML                             5.4.1\n",
      "pyzmq                              20.0.0\n",
      "QDarkStyle                         2.8.1\n",
      "QtAwesome                          1.0.2\n",
      "qtconsole                          5.0.3\n",
      "QtPy                               1.9.0\n",
      "regex                              2021.4.4\n",
      "requests                           2.25.1\n",
      "rope                               0.18.0\n",
      "Rtree                              0.9.7\n",
      "ruamel-yaml-conda                  0.15.100\n",
      "scikit-image                       0.18.1\n",
      "scikit-learn                       0.24.1\n",
      "scipy                              1.6.2\n",
      "seaborn                            0.11.1\n",
      "Send2Trash                         1.5.0\n",
      "setuptools                         52.0.0.post20210125\n",
      "simplegeneric                      0.8.1\n",
      "singledispatch                     0.0.0\n",
      "sip                                4.19.13\n",
      "six                                1.15.0\n",
      "sniffio                            1.2.0\n",
      "snowballstemmer                    2.1.0\n",
      "sortedcollections                  2.1.0\n",
      "sortedcontainers                   2.3.0\n",
      "soupsieve                          2.2.1\n",
      "Sphinx                             4.0.1\n",
      "sphinxcontrib-applehelp            1.0.2\n",
      "sphinxcontrib-devhelp              1.0.2\n",
      "sphinxcontrib-htmlhelp             1.0.3\n",
      "sphinxcontrib-jsmath               1.0.1\n",
      "sphinxcontrib-qthelp               1.0.3\n",
      "sphinxcontrib-serializinghtml      1.1.4\n",
      "sphinxcontrib-websupport           1.2.4\n",
      "spyder                             4.2.5\n",
      "spyder-kernels                     1.10.2\n",
      "SQLAlchemy                         1.4.7\n",
      "statsmodels                        0.12.2\n",
      "sympy                              1.8\n",
      "tables                             3.6.1\n",
      "tblib                              1.7.0\n",
      "terminado                          0.9.4\n",
      "testpath                           0.4.4\n",
      "textdistance                       4.2.1\n",
      "threadpoolctl                      2.1.0\n",
      "three-merge                        0.1.1\n",
      "tifffile                           2021.4.8\n",
      "toml                               0.10.2\n",
      "toolz                              0.11.1\n",
      "tornado                            6.1\n",
      "tqdm                               4.59.0\n",
      "traitlets                          5.0.5\n",
      "typed-ast                          1.4.2\n",
      "typing-extensions                  3.7.4.3\n",
      "ujson                              4.0.2\n",
      "unicodecsv                         0.14.1\n",
      "urllib3                            1.26.4\n",
      "watchdog                           1.0.2\n",
      "wcwidth                            0.2.5\n",
      "webencodings                       0.5.1\n",
      "Werkzeug                           1.0.1\n",
      "wheel                              0.36.2\n",
      "widgetsnbextension                 3.5.1\n",
      "win-inet-pton                      1.1.0\n",
      "win-unicode-console                0.5\n",
      "wincertstore                       0.2\n",
      "wrapt                              1.12.1\n",
      "xlrd                               2.0.1\n",
      "XlsxWriter                         1.3.8\n",
      "xlwings                            0.23.0\n",
      "xlwt                               1.3.0\n",
      "xmltodict                          0.12.0\n",
      "yapf                               0.31.0\n",
      "zict                               2.0.0\n",
      "zipp                               3.4.1\n",
      "zope.event                         4.5.0\n",
      "zope.interface                     5.3.0\n",
      "Note: you may need to restart the kernel to use updated packages.\n"
     ]
    }
   ],
   "source": [
    "pip list"
   ]
  },
  {
   "cell_type": "code",
   "execution_count": 302,
   "id": "9fdef271",
   "metadata": {},
   "outputs": [
    {
     "name": "stdout",
     "output_type": "stream",
     "text": [
      "Name: requests\n",
      "Version: 2.25.1\n",
      "Summary: Python HTTP for Humans.\n",
      "Home-page: https://requests.readthedocs.io\n",
      "Author: Kenneth Reitz\n",
      "Author-email: me@kennethreitz.org\n",
      "License: Apache 2.0\n",
      "Location: c:\\users\\owner\\anaconda3\\lib\\site-packages\n",
      "Requires: urllib3, idna, chardet, certifi\n",
      "Required-by: Sphinx, jupyterlab-server, conda, conda-repo-cli, conda-build, anaconda-project, anaconda-client\n",
      "Note: you may need to restart the kernel to use updated packages.\n"
     ]
    }
   ],
   "source": [
    "pip show requests"
   ]
  },
  {
   "cell_type": "code",
   "execution_count": null,
   "id": "45af0789",
   "metadata": {},
   "outputs": [],
   "source": []
  },
  {
   "cell_type": "code",
   "execution_count": 309,
   "id": "41229a72",
   "metadata": {},
   "outputs": [
    {
     "name": "stdout",
     "output_type": "stream",
     "text": [
      "\n",
      "Usage:   \n",
      "  C:\\Users\\Owner\\anaconda3\\python.exe -m pip search [options] <query>\n",
      "\n",
      "Description:\n",
      "  Search for PyPI packages whose name or summary contains <query>.\n",
      "\n",
      "Search Options:\n",
      "  -i, --index <url>           Base URL of Python Package Index (default\n",
      "                              https://pypi.org/pypi)\n",
      "\n",
      "General Options:\n",
      "  -h, --help                  Show help.\n",
      "  --isolated                  Run pip in an isolated mode, ignoring\n",
      "                              environment variables and user configuration.\n",
      "  -v, --verbose               Give more output. Option is additive, and can be\n",
      "                              used up to 3 times.\n",
      "  -V, --version               Show version and exit.\n",
      "  -q, --quiet                 Give less output. Option is additive, and can be\n",
      "                              used up to 3 times (corresponding to WARNING,\n",
      "                              ERROR, and CRITICAL logging levels).\n",
      "  --log <path>                Path to a verbose appending log.\n",
      "  --no-input                  Disable prompting for input.\n",
      "  --proxy <proxy>             Specify a proxy in the form\n",
      "                              [user:passwd@]proxy.server:port.\n",
      "  --retries <retries>         Maximum number of retries each connection should\n",
      "                              attempt (default 5 times).\n",
      "  --timeout <sec>             Set the socket timeout (default 15 seconds).\n",
      "  --exists-action <action>    Default action when a path already exists:\n",
      "                              (s)witch, (i)gnore, (w)ipe, (b)ackup, (a)bort.\n",
      "  --trusted-host <hostname>   Mark this host or host:port pair as trusted,\n",
      "                              even though it does not have valid or any HTTPS.\n",
      "  --cert <path>               Path to alternate CA bundle.\n",
      "  --client-cert <path>        Path to SSL client certificate, a single file\n",
      "                              containing the private key and the certificate\n",
      "                              in PEM format.\n",
      "  --cache-dir <dir>           Store the cache data in <dir>.\n",
      "  --no-cache-dir              Disable the cache.\n",
      "  --disable-pip-version-check\n",
      "                              Don't periodically check PyPI to determine\n",
      "                              whether a new version of pip is available for\n",
      "                              download. Implied with --no-index.\n",
      "  --no-color                  Suppress colored output.\n",
      "  --no-python-version-warning\n",
      "                              Silence deprecation warnings for upcoming\n",
      "                              unsupported Pythons.\n",
      "  --use-feature <feature>     Enable new functionality, that may be backward\n",
      "                              incompatible.\n",
      "  --use-deprecated <feature>  Enable deprecated functionality, that will be\n",
      "                              removed in the future.\n",
      "Note: you may need to restart the kernel to use updated packages.\n"
     ]
    }
   ],
   "source": [
    "pip help search"
   ]
  },
  {
   "cell_type": "code",
   "execution_count": 310,
   "id": "9ca414af",
   "metadata": {},
   "outputs": [
    {
     "name": "stdout",
     "output_type": "stream",
     "text": [
      "Note: you may need to restart the kernel to use updated packages.\n"
     ]
    },
    {
     "name": "stderr",
     "output_type": "stream",
     "text": [
      "WARNING: Retrying (Retry(total=4, connect=None, read=None, redirect=None, status=None)) after connection broken by 'SSLError(SSLError(1, '[SSL: WRONG_VERSION_NUMBER] wrong version number (_ssl.c:1125)'))': /pypi\n",
      "WARNING: Retrying (Retry(total=3, connect=None, read=None, redirect=None, status=None)) after connection broken by 'SSLError(SSLError(1, '[SSL: WRONG_VERSION_NUMBER] wrong version number (_ssl.c:1125)'))': /pypi\n",
      "WARNING: Retrying (Retry(total=2, connect=None, read=None, redirect=None, status=None)) after connection broken by 'SSLError(SSLError(1, '[SSL: WRONG_VERSION_NUMBER] wrong version number (_ssl.c:1125)'))': /pypi\n",
      "WARNING: Retrying (Retry(total=1, connect=None, read=None, redirect=None, status=None)) after connection broken by 'SSLError(SSLError(1, '[SSL: WRONG_VERSION_NUMBER] wrong version number (_ssl.c:1125)'))': /pypi\n",
      "WARNING: Retrying (Retry(total=0, connect=None, read=None, redirect=None, status=None)) after connection broken by 'SSLError(SSLError(1, '[SSL: WRONG_VERSION_NUMBER] wrong version number (_ssl.c:1125)'))': /pypi\n",
      "ERROR: Exception:\n",
      "Traceback (most recent call last):\n",
      "  File \"C:\\Users\\Owner\\anaconda3\\lib\\site-packages\\pip\\_vendor\\urllib3\\connectionpool.py\", line 696, in urlopen\n",
      "    self._prepare_proxy(conn)\n",
      "  File \"C:\\Users\\Owner\\anaconda3\\lib\\site-packages\\pip\\_vendor\\urllib3\\connectionpool.py\", line 964, in _prepare_proxy\n",
      "    conn.connect()\n",
      "  File \"C:\\Users\\Owner\\anaconda3\\lib\\site-packages\\pip\\_vendor\\urllib3\\connection.py\", line 359, in connect\n",
      "    conn = self._connect_tls_proxy(hostname, conn)\n",
      "  File \"C:\\Users\\Owner\\anaconda3\\lib\\site-packages\\pip\\_vendor\\urllib3\\connection.py\", line 496, in _connect_tls_proxy\n",
      "    return ssl_wrap_socket(\n",
      "  File \"C:\\Users\\Owner\\anaconda3\\lib\\site-packages\\pip\\_vendor\\urllib3\\util\\ssl_.py\", line 432, in ssl_wrap_socket\n",
      "    ssl_sock = _ssl_wrap_socket_impl(sock, context, tls_in_tls)\n",
      "  File \"C:\\Users\\Owner\\anaconda3\\lib\\site-packages\\pip\\_vendor\\urllib3\\util\\ssl_.py\", line 474, in _ssl_wrap_socket_impl\n",
      "    return ssl_context.wrap_socket(sock)\n",
      "  File \"C:\\Users\\Owner\\anaconda3\\lib\\ssl.py\", line 500, in wrap_socket\n",
      "    return self.sslsocket_class._create(\n",
      "  File \"C:\\Users\\Owner\\anaconda3\\lib\\ssl.py\", line 1040, in _create\n",
      "    self.do_handshake()\n",
      "  File \"C:\\Users\\Owner\\anaconda3\\lib\\ssl.py\", line 1309, in do_handshake\n",
      "    self._sslobj.do_handshake()\n",
      "ssl.SSLError: [SSL: WRONG_VERSION_NUMBER] wrong version number (_ssl.c:1125)\n",
      "\n",
      "During handling of the above exception, another exception occurred:\n",
      "\n",
      "Traceback (most recent call last):\n",
      "  File \"C:\\Users\\Owner\\anaconda3\\lib\\site-packages\\pip\\_vendor\\requests\\adapters.py\", line 439, in send\n",
      "    resp = conn.urlopen(\n",
      "  File \"C:\\Users\\Owner\\anaconda3\\lib\\site-packages\\pip\\_vendor\\urllib3\\connectionpool.py\", line 783, in urlopen\n",
      "    return self.urlopen(\n",
      "  File \"C:\\Users\\Owner\\anaconda3\\lib\\site-packages\\pip\\_vendor\\urllib3\\connectionpool.py\", line 783, in urlopen\n",
      "    return self.urlopen(\n",
      "  File \"C:\\Users\\Owner\\anaconda3\\lib\\site-packages\\pip\\_vendor\\urllib3\\connectionpool.py\", line 783, in urlopen\n",
      "    return self.urlopen(\n",
      "  [Previous line repeated 2 more times]\n",
      "  File \"C:\\Users\\Owner\\anaconda3\\lib\\site-packages\\pip\\_vendor\\urllib3\\connectionpool.py\", line 755, in urlopen\n",
      "    retries = retries.increment(\n",
      "  File \"C:\\Users\\Owner\\anaconda3\\lib\\site-packages\\pip\\_vendor\\urllib3\\util\\retry.py\", line 573, in increment\n",
      "    raise MaxRetryError(_pool, url, error or ResponseError(cause))\n",
      "pip._vendor.urllib3.exceptions.MaxRetryError: HTTPSConnectionPool(host='pypi.org', port=443): Max retries exceeded with url: /pypi (Caused by SSLError(SSLError(1, '[SSL: WRONG_VERSION_NUMBER] wrong version number (_ssl.c:1125)')))\n",
      "\n",
      "During handling of the above exception, another exception occurred:\n",
      "\n",
      "Traceback (most recent call last):\n",
      "  File \"C:\\Users\\Owner\\anaconda3\\lib\\site-packages\\pip\\_internal\\cli\\base_command.py\", line 189, in _main\n",
      "    status = self.run(options, args)\n",
      "  File \"C:\\Users\\Owner\\anaconda3\\lib\\site-packages\\pip\\_internal\\commands\\search.py\", line 60, in run\n",
      "    pypi_hits = self.search(query, options)\n",
      "  File \"C:\\Users\\Owner\\anaconda3\\lib\\site-packages\\pip\\_internal\\commands\\search.py\", line 81, in search\n",
      "    hits = pypi.search({'name': query, 'summary': query}, 'or')\n",
      "  File \"C:\\Users\\Owner\\anaconda3\\lib\\xmlrpc\\client.py\", line 1109, in __call__\n",
      "    return self.__send(self.__name, args)\n",
      "  File \"C:\\Users\\Owner\\anaconda3\\lib\\xmlrpc\\client.py\", line 1450, in __request\n",
      "    response = self.__transport.request(\n",
      "  File \"C:\\Users\\Owner\\anaconda3\\lib\\site-packages\\pip\\_internal\\network\\xmlrpc.py\", line 42, in request\n",
      "    response = self._session.post(url, data=request_body,\n",
      "  File \"C:\\Users\\Owner\\anaconda3\\lib\\site-packages\\pip\\_vendor\\requests\\sessions.py\", line 590, in post\n",
      "    return self.request('POST', url, data=data, json=json, **kwargs)\n",
      "  File \"C:\\Users\\Owner\\anaconda3\\lib\\site-packages\\pip\\_internal\\network\\session.py\", line 424, in request\n",
      "    return super().request(method, url, *args, **kwargs)\n",
      "  File \"C:\\Users\\Owner\\anaconda3\\lib\\site-packages\\pip\\_vendor\\requests\\sessions.py\", line 542, in request\n",
      "    resp = self.send(prep, **send_kwargs)\n",
      "  File \"C:\\Users\\Owner\\anaconda3\\lib\\site-packages\\pip\\_vendor\\requests\\sessions.py\", line 655, in send\n",
      "    r = adapter.send(request, **kwargs)\n",
      "  File \"C:\\Users\\Owner\\anaconda3\\lib\\site-packages\\pip\\_vendor\\cachecontrol\\adapter.py\", line 53, in send\n",
      "    resp = super(CacheControlAdapter, self).send(request, **kw)\n",
      "  File \"C:\\Users\\Owner\\anaconda3\\lib\\site-packages\\pip\\_vendor\\requests\\adapters.py\", line 514, in send\n",
      "    raise SSLError(e, request=request)\n",
      "pip._vendor.requests.exceptions.SSLError: HTTPSConnectionPool(host='pypi.org', port=443): Max retries exceeded with url: /pypi (Caused by SSLError(SSLError(1, '[SSL: WRONG_VERSION_NUMBER] wrong version number (_ssl.c:1125)')))\n"
     ]
    }
   ],
   "source": [
    "pip search requests oauth"
   ]
  },
  {
   "cell_type": "code",
   "execution_count": null,
   "id": "b749ab8e",
   "metadata": {},
   "outputs": [],
   "source": []
  }
 ],
 "metadata": {
  "kernelspec": {
   "display_name": "Python 3",
   "language": "python",
   "name": "python3"
  },
  "language_info": {
   "codemirror_mode": {
    "name": "ipython",
    "version": 3
   },
   "file_extension": ".py",
   "mimetype": "text/x-python",
   "name": "python",
   "nbconvert_exporter": "python",
   "pygments_lexer": "ipython3",
   "version": "3.8.8"
  }
 },
 "nbformat": 4,
 "nbformat_minor": 5
}
