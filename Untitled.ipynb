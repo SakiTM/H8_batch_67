{
 "cells": [
  {
   "cell_type": "code",
   "execution_count": 53,
   "id": "26b65301",
   "metadata": {},
   "outputs": [],
   "source": [
    "#Aritmatic"
   ]
  },
  {
   "cell_type": "code",
   "execution_count": 52,
   "id": "29b875bb",
   "metadata": {},
   "outputs": [
    {
     "name": "stdout",
     "output_type": "stream",
     "text": [
      "70\n",
      "30\n",
      "0\n",
      "30\n",
      "1200\n",
      "121576654590569288010000000000000000000000000000000000000000\n",
      "0.75\n",
      "-10\n",
      "1.0\n"
     ]
    }
   ],
   "source": [
    "A = 30\n",
    "B = 40\n",
    "print(A+B)\n",
    "print (A)\n",
    "print(A-B+10)\n",
    "print(A%B)\n",
    "print (A*B)\n",
    "print (A**B)\n",
    "print (A/B)\n",
    "print (A-B)\n",
    "print ((A+10)/B)"
   ]
  },
  {
   "cell_type": "code",
   "execution_count": 23,
   "id": "50019fec",
   "metadata": {},
   "outputs": [
    {
     "name": "stdout",
     "output_type": "stream",
     "text": [
      "SISKA KUMALA\n",
      "siska kumala\n",
      "Siska kumala\n",
      "50\n"
     ]
    }
   ],
   "source": [
    "var = \"siska kumala\"\n",
    "print(var.upper())\n",
    "print(var.lower())\n",
    "print(var.capitalize())\n",
    "var = 50\n",
    "print (var)"
   ]
  },
  {
   "cell_type": "code",
   "execution_count": 12,
   "id": "ea087b2a",
   "metadata": {},
   "outputs": [
    {
     "name": "stdout",
     "output_type": "stream",
     "text": [
      "10.0\n",
      "5000000.0\n"
     ]
    }
   ],
   "source": [
    "X = 4.5\n",
    "Y = 5.5\n",
    "Z = .5e7\n",
    "print (X+Y)\n",
    "print (Z)"
   ]
  },
  {
   "cell_type": "code",
   "execution_count": 9,
   "id": "b1ba1254",
   "metadata": {},
   "outputs": [
    {
     "name": "stdout",
     "output_type": "stream",
     "text": [
      "Siska Kumala\n",
      "<class 'str'>\n"
     ]
    }
   ],
   "source": [
    "print (\"Siska Kumala\")\n",
    "print (type(\"Siska Kumala\"))"
   ]
  },
  {
   "cell_type": "code",
   "execution_count": 10,
   "id": "76302e10",
   "metadata": {},
   "outputs": [
    {
     "name": "stdout",
     "output_type": "stream",
     "text": [
      "ini ada double quota ( \" )character\n",
      "ini ada single quota ( ' ) character\n"
     ]
    }
   ],
   "source": [
    "print ('ini ada double quota ( \" )character')\n",
    "print (\"ini ada single quota ( ' ) character\")"
   ]
  },
  {
   "cell_type": "code",
   "execution_count": 14,
   "id": "70804341",
   "metadata": {},
   "outputs": [
    {
     "name": "stdout",
     "output_type": "stream",
     "text": [
      "<class 'bool'>\n",
      "<class 'bool'>\n"
     ]
    }
   ],
   "source": [
    "print (type(True))\n",
    "print (type(False))"
   ]
  },
  {
   "cell_type": "code",
   "execution_count": 15,
   "id": "93f3a3bc",
   "metadata": {},
   "outputs": [
    {
     "name": "stdout",
     "output_type": "stream",
     "text": [
      "100 100 100\n"
     ]
    }
   ],
   "source": [
    "a = b = c = 100\n",
    "print (a,b,c)"
   ]
  },
  {
   "cell_type": "code",
   "execution_count": 56,
   "id": "3a4d5395",
   "metadata": {},
   "outputs": [
    {
     "name": "stdout",
     "output_type": "stream",
     "text": [
      "Siska\n",
      "Bri agro\n",
      "True\n"
     ]
    },
    {
     "data": {
      "text/plain": [
       "(None, None, None)"
      ]
     },
     "execution_count": 56,
     "metadata": {},
     "output_type": "execute_result"
    }
   ],
   "source": [
    "name = \"siska\"\n",
    "kerja = \"bri agro\"\n",
    "dapat_gaji = True\n",
    "print(name.capitalize()), print (kerja.capitalize()), print (dapat_gaji)"
   ]
  },
  {
   "cell_type": "code",
   "execution_count": 60,
   "id": "095ff52b",
   "metadata": {},
   "outputs": [
    {
     "name": "stdout",
     "output_type": "stream",
     "text": [
      "False\n",
      "True\n",
      "True\n",
      "False\n"
     ]
    }
   ],
   "source": [
    "a = 10\n",
    "b = 20\n",
    "print (a == b)\n",
    "print (a != b)\n",
    "print (a <= b )\n",
    "print (a >= b )"
   ]
  },
  {
   "cell_type": "code",
   "execution_count": 74,
   "id": "46929af5",
   "metadata": {},
   "outputs": [
    {
     "name": "stdout",
     "output_type": "stream",
     "text": [
      "siskakumala\n",
      "siskakumalasari\n",
      "SiskaKumala\n",
      "siskasiskasiskasiska\n",
      "True\n",
      "False\n",
      "SISKA Kumala Main Game\n",
      "SISKA\n"
     ]
    }
   ],
   "source": [
    "s = 'siska'\n",
    "t = 'kumala'\n",
    "u = 'sari'\n",
    "print (s + t)\n",
    "print (s + t + u)\n",
    "print ('Siska'  +  'Kumala')\n",
    "print (s*4)\n",
    "print (s in \"Itu siskak ya\")\n",
    "print (s in \"Itu Din ya\")\n",
    "print (s.swapcase(),t.capitalize(),'Main Game')\n",
    "print (s.upper())"
   ]
  },
  {
   "cell_type": "code",
   "execution_count": 112,
   "id": "211e6411",
   "metadata": {},
   "outputs": [
    {
     "name": "stdout",
     "output_type": "stream",
     "text": [
      "['aku', 'ini', 'anu', 'ana']\n",
      "False\n",
      "lili\n",
      "budi\n",
      "nono\n",
      "nene\n",
      "nana\n",
      "ani\n",
      "['nono', 'nene', 'nana']\n",
      "['lili', 'budi', 'nono', 'nene', 'nana', 'ani']\n",
      "['lili', 'budi', 5, 'nene', 10, 'ani']\n",
      "[5, 'nene', 10]\n",
      "['sd', '5', 'smp', '.4e10']\n",
      "['aku', 'ini', 'anu', 'ana', 'Inu']\n",
      "4\n",
      "aku\n",
      "ini\n",
      "['aku', 'ini', 'anu', 'ana', 'aku', 'ini', 'anu', 'ana']\n",
      "8\n",
      "aku\n",
      "ini\n",
      "['lili', 'budi', 5, 'nene', 10, 'ani', 'lili', 'budi', 5, 'nene', 10, 'ani']\n",
      "['lili', 5, 'nene', 10, 'ani']\n",
      "['aku', 'ini', 'anu', 'ana']\n",
      "['aku', 'ini']\n",
      "['Siska', 'adalah', 'hati', 'anu', 'ana']\n"
     ]
    }
   ],
   "source": [
    "x = ['aku', 'ini','anu', \"ana\"]\n",
    "print (x)\n",
    "y = ['sd', 'smp', 'sma']\n",
    "print (x == y)\n",
    "z = ['sd', '5', 'smp', '.4e10']\n",
    "q = ['lili','budi', 'nono', 'nene','nana','ani']\n",
    "print (q[0])\n",
    "print (q[1])\n",
    "print (q[2])\n",
    "print (q[3])\n",
    "print (q[4])\n",
    "print (q[5])\n",
    "print (q[2:5])\n",
    "print (q)\n",
    "q[2] = 5\n",
    "q[4] = 10\n",
    "print (q)\n",
    "print (q [2:5])\n",
    "print (z)\n",
    "print (x + ['Inu'])\n",
    "print (len(x))\n",
    "print (min(x))\n",
    "print (max(x))\n",
    "print (x*2)\n",
    "print (len(x*2))\n",
    "print (min (x*2))\n",
    "print (max (x*2))\n",
    "print (q*2)\n",
    "del (q[1])\n",
    "print (q)\n",
    "print (x)\n",
    "print (x[0:2])\n",
    "x[0:2] =['Siska','adalah','hati']\n",
    "print (x)\n"
   ]
  },
  {
   "cell_type": "code",
   "execution_count": 116,
   "id": "028e8f3c",
   "metadata": {},
   "outputs": [
    {
     "data": {
      "text/plain": [
       "'siska'"
      ]
     },
     "execution_count": 116,
     "metadata": {},
     "output_type": "execute_result"
    }
   ],
   "source": [
    "(p,q,r,s)=('siska','kumala','bank','raya')\n",
    "p"
   ]
  },
  {
   "cell_type": "code",
   "execution_count": 124,
   "id": "51fa0950",
   "metadata": {},
   "outputs": [
    {
     "name": "stdout",
     "output_type": "stream",
     "text": [
      "Semen Padang\n",
      "Persip\n"
     ]
    },
    {
     "data": {
      "text/plain": [
       "{'Sumbar': 'Semen Padang',\n",
       " 'Jabar': 'Persip',\n",
       " 'Jakarta': 'Persija',\n",
       " 'Bali': 'Bali United',\n",
       " 'Samarinda': 'Borneo'}"
      ]
     },
     "execution_count": 124,
     "metadata": {},
     "output_type": "execute_result"
    }
   ],
   "source": [
    "soccer_team = {'Sumbar':'Semen Padang', 'Jabar':'Persip','Jakarta':'Persija','Bali':'Bali United'}\n",
    "print (soccer_team['Sumbar'])\n",
    "print (soccer_team['Jabar'])\n",
    "soccer_team['Makassar'] = 'PSM'\n",
    "soccer_team\n",
    "soccer_team['Samarinda'] = 'Borneo'\n",
    "soccer_team\n",
    "del soccer_team ['Makassar']\n",
    "soccer_team"
   ]
  },
  {
   "cell_type": "code",
   "execution_count": 149,
   "id": "0c83fdba",
   "metadata": {},
   "outputs": [
    {
     "name": "stdout",
     "output_type": "stream",
     "text": [
      "{'fname': 'Ani', 'lname': 'Danis', 'usia': 56, 'spouse': 'Ito', 'anak': ['Ina', 'Inu', 'Indi'], 'pets': {'bebek': 'bebe', 'cat': 'bonbon'}}\n",
      "Ani\n",
      "&\n",
      "Ito\n",
      "['Ina', 'Inu', 'Indi']\n",
      "['Ina', 'Inu']\n",
      "Indi\n",
      "{'bebek': 'bebe', 'cat': 'bonbon'}\n",
      "bonbon\n"
     ]
    }
   ],
   "source": [
    "person = {}\n",
    "type(person)\n",
    "person ['fname'] = 'Ani'\n",
    "person ['lname'] = 'Danis'\n",
    "person ['usia'] = 56\n",
    "person ['spouse'] = 'Ito'\n",
    "person ['anak'] = ['Ina', 'Inu', 'Indi']\n",
    "person ['pets'] = {'bebek':'bebe','cat':'bonbon'}\n",
    "\n",
    "print (person)\n",
    "print (person['fname']), print ('&'), print (person['spouse'])\n",
    "print (person['anak'])\n",
    "print (person['anak'][0:2])\n",
    "print (person['anak'][2])\n",
    "print (person['pets'])\n",
    "print (person['pets']['cat'])\n"
   ]
  },
  {
   "cell_type": "code",
   "execution_count": 148,
   "id": "8a90de12",
   "metadata": {},
   "outputs": [
    {
     "name": "stdout",
     "output_type": "stream",
     "text": [
      "dict_items([('a', 10), ('b', 20), ('c', 30)])\n",
      "dict_keys(['a', 'b', 'c'])\n",
      "dict_values([10, 20, 30])\n"
     ]
    }
   ],
   "source": [
    "#Built-in\n",
    "\n",
    "x = {'a' : 10, 'b' : 20, 'c' : 30}\n",
    "\n",
    "#items\n",
    "print (x.items())\n",
    "#keys\n",
    "print (x.keys())\n",
    "#values\n",
    "print (x.values())\n",
    "\n"
   ]
  },
  {
   "cell_type": "code",
   "execution_count": 154,
   "id": "3bb9c298",
   "metadata": {},
   "outputs": [
    {
     "data": {
      "text/plain": [
       "True"
      ]
     },
     "execution_count": 154,
     "metadata": {},
     "output_type": "execute_result"
    }
   ],
   "source": [
    "person1_age = 42\n",
    "person2_age = 15\n",
    "person3_age = 71\n",
    "someone_is_of_working_age = ((person1_age>=18 and person1_age <=65)\n",
    "or (person2_age >=18 and person2_age <=65)\n",
    "or (person3_age >=18 and person3_age <=65))\n",
    "someone_is_of_working_age\n"
   ]
  },
  {
   "cell_type": "code",
   "execution_count": 155,
   "id": "83a98a46",
   "metadata": {},
   "outputs": [
    {
     "data": {
      "text/plain": [
       "False"
      ]
     },
     "execution_count": 155,
     "metadata": {},
     "output_type": "execute_result"
    }
   ],
   "source": [
    "person1_age = 42\n",
    "person2_age = 15\n",
    "person3_age = 71\n",
    "someone_is_of_working_age = ((person1_age>=18 and person1_age <=65)\n",
    "and (person2_age >=18 and person2_age <=65)\n",
    "and (person3_age >=18 and person3_age <=65))\n",
    "someone_is_of_working_age"
   ]
  },
  {
   "cell_type": "code",
   "execution_count": null,
   "id": "51afd38a",
   "metadata": {},
   "outputs": [],
   "source": []
  }
 ],
 "metadata": {
  "kernelspec": {
   "display_name": "Python 3",
   "language": "python",
   "name": "python3"
  },
  "language_info": {
   "codemirror_mode": {
    "name": "ipython",
    "version": 3
   },
   "file_extension": ".py",
   "mimetype": "text/x-python",
   "name": "python",
   "nbconvert_exporter": "python",
   "pygments_lexer": "ipython3",
   "version": "3.8.8"
  }
 },
 "nbformat": 4,
 "nbformat_minor": 5
}
